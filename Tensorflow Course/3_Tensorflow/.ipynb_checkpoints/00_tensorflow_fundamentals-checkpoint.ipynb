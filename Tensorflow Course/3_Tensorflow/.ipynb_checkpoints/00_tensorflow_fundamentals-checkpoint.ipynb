{
 "cells": [
  {
   "attachments": {},
   "cell_type": "markdown",
   "id": "d4e1538a-6351-47e9-8ff7-2339a1019dec",
   "metadata": {},
   "source": [
    "<div>\n",
    "    <img src=\"../assets/1_header.png\">\n",
    "</div>"
   ]
  },
  {
   "cell_type": "markdown",
   "id": "e73a781a-a6c4-4602-81fb-4770b6fa8372",
   "metadata": {},
   "source": [
    "# 1. What is Tensorflow ? \n",
    "<div>\n",
    "    <img src=\"../assets/9_what_is_tensorflow.png\">\n",
    "</div>"
   ]
  },
  {
   "cell_type": "markdown",
   "id": "e19defbe-5899-4059-8f90-061d53abca62",
   "metadata": {},
   "source": [
    "# 2. What is Tensor ?? \n",
    "- In TensorFlow, a tensor is a multi-dimensional array that represents the fundamental data structure used for computations.\n",
    "Here's a breakdown of its key aspects:\n",
    "\n",
    "1. Multi-dimensional array:\n",
    "Think of a tensor as a generalization of vectors and matrices to higher dimensions. A scalar is a 0-dimensional tensor, a vector is a 1-dimensional tensor, a matrix is a 2-dimensional tensor, and so on.\n",
    "\n",
    "3. Data type:\n",
    "Tensors have a uniform data type (e.g., float32, int64), which specifies the type of values stored within the tensor.\n",
    "\n",
    "\n",
    "5. Immutable:\n",
    "Tensors are immutable, meaning that their contents cannot be modified once created. Instead, operations on tensors create new tensors.\n",
    "\n",
    "\n",
    "7. Flow of data:\n",
    "The name \"TensorFlow\" reflects the flow of tensors through a computational graph. Tensors are passed between nodes in the graph, representing the input and output of operations.\n",
    "\n",
    "\n",
    "9. Analogy: You can think of tensors as containers that hold data, similar to NumPy arrays. However, tensors offer additional functionalities for efficient computation on GPUs and distributed systems, making them suitable for large-scale machine learning tasks.\n",
    "\n",
    "<div>\n",
    "    <img src=\"../assets/10_tensor.png\">\n",
    "</div>"
   ]
  },
  {
   "cell_type": "markdown",
   "id": "2a1eab2f-1837-4e82-86cd-47bae6d622c5",
   "metadata": {},
   "source": [
    "# 3. Introduction of Tensorflow"
   ]
  },
  {
   "cell_type": "code",
   "execution_count": 3,
   "id": "1aff05b5-91ed-4e31-ae02-6901ab43face",
   "metadata": {},
   "outputs": [
    {
     "name": "stdout",
     "output_type": "stream",
     "text": [
      "2.17.0\n"
     ]
    }
   ],
   "source": [
    "# import TensorFlow \n",
    "import tensorflow as tf \n",
    "print(tf.__version__)"
   ]
  },
  {
   "cell_type": "code",
   "execution_count": 4,
   "id": "4d2c9c92-6a47-4089-83a2-2c7c0383a1e4",
   "metadata": {},
   "outputs": [
    {
     "data": {
      "text/plain": [
       "<tf.Tensor: shape=(), dtype=int32, numpy=7>"
      ]
     },
     "execution_count": 4,
     "metadata": {},
     "output_type": "execute_result"
    }
   ],
   "source": [
    "# create tensors with tf.contant() \n",
    "scalar = tf.constant(7)\n",
    "scalar"
   ]
  },
  {
   "cell_type": "code",
   "execution_count": 5,
   "id": "3b35ef0c-2c29-4e79-8111-8a9134acada3",
   "metadata": {},
   "outputs": [
    {
     "data": {
      "text/plain": [
       "0"
      ]
     },
     "execution_count": 5,
     "metadata": {},
     "output_type": "execute_result"
    }
   ],
   "source": [
    "# check the number of dimension of a tensor (ndim stands for  no. of dimension)\n",
    "scalar.ndim"
   ]
  },
  {
   "cell_type": "code",
   "execution_count": 6,
   "id": "5991cba7-d2f4-4fdd-9891-21115dd66261",
   "metadata": {},
   "outputs": [
    {
     "data": {
      "text/plain": [
       "<tf.Tensor: shape=(2,), dtype=int32, numpy=array([10, 10])>"
      ]
     },
     "execution_count": 6,
     "metadata": {},
     "output_type": "execute_result"
    }
   ],
   "source": [
    "# create a vector\n",
    "vector= tf.constant([10,10])\n",
    "vector"
   ]
  },
  {
   "cell_type": "code",
   "execution_count": 7,
   "id": "b4ecbd3d-f972-4953-8bf9-9a2101211c7d",
   "metadata": {},
   "outputs": [
    {
     "data": {
      "text/plain": [
       "1"
      ]
     },
     "execution_count": 7,
     "metadata": {},
     "output_type": "execute_result"
    }
   ],
   "source": [
    "# check the number of dimension of a vector\n",
    "vector.ndim"
   ]
  },
  {
   "cell_type": "code",
   "execution_count": 8,
   "id": "77c73d2a-0741-4d31-ad65-98cdeb5e3347",
   "metadata": {},
   "outputs": [
    {
     "data": {
      "text/plain": [
       "<tf.Tensor: shape=(2, 2), dtype=int32, numpy=\n",
       "array([[10,  7],\n",
       "       [ 7, 10]])>"
      ]
     },
     "execution_count": 8,
     "metadata": {},
     "output_type": "execute_result"
    }
   ],
   "source": [
    "# create a matrix (has more than 1 dimension)\n",
    "matrix = tf.constant([[10,7],\n",
    "                     [7,10]])\n",
    "matrix"
   ]
  },
  {
   "cell_type": "code",
   "execution_count": 9,
   "id": "b0361abc-7077-4cdc-ac74-30f636a7320c",
   "metadata": {},
   "outputs": [
    {
     "data": {
      "text/plain": [
       "2"
      ]
     },
     "execution_count": 9,
     "metadata": {},
     "output_type": "execute_result"
    }
   ],
   "source": [
    "matrix.ndim"
   ]
  },
  {
   "cell_type": "code",
   "execution_count": 10,
   "id": "9d91db0c-d600-4f21-a141-57c7cdb9efbb",
   "metadata": {},
   "outputs": [
    {
     "data": {
      "text/plain": [
       "<tf.Tensor: shape=(3, 2), dtype=float16, numpy=\n",
       "array([[10.,  7.],\n",
       "       [ 3.,  2.],\n",
       "       [ 8.,  9.]], dtype=float16)>"
      ]
     },
     "execution_count": 10,
     "metadata": {},
     "output_type": "execute_result"
    }
   ],
   "source": [
    "# create another matrix \n",
    "another_matrix = tf.constant([[10.,7.],\n",
    "                             [3.,2.],\n",
    "                             [8.,9.]], dtype=tf.float16) \n",
    "#specify the data type  with dtype parameters.\n",
    "another_matrix"
   ]
  },
  {
   "cell_type": "code",
   "execution_count": 11,
   "id": "22194f18-997e-433d-b0ce-26fea610b776",
   "metadata": {},
   "outputs": [
    {
     "data": {
      "text/plain": [
       "2"
      ]
     },
     "execution_count": 11,
     "metadata": {},
     "output_type": "execute_result"
    }
   ],
   "source": [
    "# What's the number of dimensions of another_matrix \n",
    "another_matrix.ndim"
   ]
  },
  {
   "cell_type": "code",
   "execution_count": 12,
   "id": "1852ddc2-1ac7-4fdf-be52-fd1ab37ab8a8",
   "metadata": {},
   "outputs": [
    {
     "data": {
      "text/plain": [
       "<tf.Tensor: shape=(2, 2, 3), dtype=int32, numpy=\n",
       "array([[[ 1,  2,  3],\n",
       "        [ 4,  5,  6]],\n",
       "\n",
       "       [[ 7,  8,  9],\n",
       "        [10, 11, 12]]])>"
      ]
     },
     "execution_count": 12,
     "metadata": {},
     "output_type": "execute_result"
    }
   ],
   "source": [
    "# Let's create a tensor \n",
    "tensor =tf.constant([[[1,2,3],\n",
    "                     [4,5,6]],\n",
    "                     [[7,8,9],\n",
    "                     [10,11,12]]])\n",
    "tensor"
   ]
  },
  {
   "cell_type": "code",
   "execution_count": 13,
   "id": "33ee557b-6d8f-494b-9e81-3b3055d1359f",
   "metadata": {},
   "outputs": [
    {
     "data": {
      "text/plain": [
       "3"
      ]
     },
     "execution_count": 13,
     "metadata": {},
     "output_type": "execute_result"
    }
   ],
   "source": [
    "tensor.ndim"
   ]
  },
  {
   "cell_type": "markdown",
   "id": "c17eb544-2223-4cd2-8e8d-0920b3c96bc6",
   "metadata": {},
   "source": [
    "### What we've create so far:\n",
    "* Scalar: a single number \n",
    "* Vector: a number with direction (e.g. wind speed and direction)\n",
    "* Matrix: a 2-dimensional array of number.\n",
    "* Tensor: is a n-dimensional array of numbers (where n can be any number, a 0-dimensional tensor is a scalar, a1-dimensional)"
   ]
  },
  {
   "cell_type": "markdown",
   "id": "925abc29-df3e-424e-a315-567e09fbd949",
   "metadata": {},
   "source": [
    "## 5. Creating tensors with `tf.tensor`"
   ]
  },
  {
   "cell_type": "code",
   "execution_count": 16,
   "id": "906ddb8f-408c-43f2-b29a-385ea1d4e445",
   "metadata": {},
   "outputs": [
    {
     "data": {
      "text/plain": [
       "(<tf.Variable 'Variable:0' shape=(2,) dtype=int32, numpy=array([10,  7])>,\n",
       " <tf.Tensor: shape=(2,), dtype=int32, numpy=array([10,  7])>)"
      ]
     },
     "execution_count": 16,
     "metadata": {},
     "output_type": "execute_result"
    }
   ],
   "source": [
    "# create the same tensor with tf.variable() as above \n",
    "changeable_tensor = tf.Variable([10,7])\n",
    "unchangeable_tensor = tf.constant([10,7])\n",
    "changeable_tensor,unchangeable_tensor"
   ]
  },
  {
   "cell_type": "code",
   "execution_count": 17,
   "id": "9984732e-98a1-4f67-bf67-41930f99a9b1",
   "metadata": {},
   "outputs": [
    {
     "ename": "TypeError",
     "evalue": "'ResourceVariable' object does not support item assignment",
     "output_type": "error",
     "traceback": [
      "\u001b[1;31m---------------------------------------------------------------------------\u001b[0m",
      "\u001b[1;31mTypeError\u001b[0m                                 Traceback (most recent call last)",
      "Cell \u001b[1;32mIn[17], line 2\u001b[0m\n\u001b[0;32m      1\u001b[0m \u001b[38;5;66;03m# Let's try change one of the elements in our changeable_tensor \u001b[39;00m\n\u001b[1;32m----> 2\u001b[0m \u001b[43mchangeable_tensor\u001b[49m\u001b[43m[\u001b[49m\u001b[38;5;241;43m0\u001b[39;49m\u001b[43m]\u001b[49m \u001b[38;5;241m=\u001b[39m \u001b[38;5;241m7\u001b[39m \n\u001b[0;32m      3\u001b[0m changeable_tensor\n",
      "\u001b[1;31mTypeError\u001b[0m: 'ResourceVariable' object does not support item assignment"
     ]
    }
   ],
   "source": [
    "# Let's try change one of the elements in our changeable_tensor \n",
    "changeable_tensor[0] = 7 \n",
    "changeable_tensor"
   ]
  },
  {
   "cell_type": "code",
   "execution_count": 58,
   "id": "00dd6f0b-27e2-4842-9d27-ddc323de81d5",
   "metadata": {},
   "outputs": [
    {
     "data": {
      "text/plain": [
       "<tf.Variable 'Variable:0' shape=(2,) dtype=int32, numpy=array([7, 7])>"
      ]
     },
     "execution_count": 58,
     "metadata": {},
     "output_type": "execute_result"
    }
   ],
   "source": [
    "# How about we try .assign()\n",
    "changeable_tensor[0].assign(7)\n",
    "changeable_tensor"
   ]
  },
  {
   "cell_type": "code",
   "execution_count": 19,
   "id": "42e9f79b-72bb-4a4b-b7fe-ff97eccae767",
   "metadata": {
    "scrolled": true
   },
   "outputs": [
    {
     "ename": "AttributeError",
     "evalue": "'tensorflow.python.framework.ops.EagerTensor' object has no attribute 'assign'",
     "output_type": "error",
     "traceback": [
      "\u001b[1;31m---------------------------------------------------------------------------\u001b[0m",
      "\u001b[1;31mAttributeError\u001b[0m                            Traceback (most recent call last)",
      "Cell \u001b[1;32mIn[19], line 3\u001b[0m\n\u001b[0;32m      1\u001b[0m \u001b[38;5;66;03m# Let's try change our unchangeable_tensor \u001b[39;00m\n\u001b[0;32m      2\u001b[0m \u001b[38;5;66;03m# It will probabily through an error.\u001b[39;00m\n\u001b[1;32m----> 3\u001b[0m \u001b[43munchangeable_tensor\u001b[49m\u001b[43m[\u001b[49m\u001b[38;5;241;43m0\u001b[39;49m\u001b[43m]\u001b[49m\u001b[38;5;241;43m.\u001b[39;49m\u001b[43massign\u001b[49m(\u001b[38;5;241m7\u001b[39m)\n\u001b[0;32m      4\u001b[0m unchangeable_tensor\n",
      "File \u001b[1;32m~\\anaconda3\\Lib\\site-packages\\tensorflow\\python\\framework\\tensor.py:260\u001b[0m, in \u001b[0;36mTensor.__getattr__\u001b[1;34m(self, name)\u001b[0m\n\u001b[0;32m    252\u001b[0m \u001b[38;5;28;01mif\u001b[39;00m name \u001b[38;5;129;01min\u001b[39;00m {\u001b[38;5;124m\"\u001b[39m\u001b[38;5;124mT\u001b[39m\u001b[38;5;124m\"\u001b[39m, \u001b[38;5;124m\"\u001b[39m\u001b[38;5;124mastype\u001b[39m\u001b[38;5;124m\"\u001b[39m, \u001b[38;5;124m\"\u001b[39m\u001b[38;5;124mravel\u001b[39m\u001b[38;5;124m\"\u001b[39m, \u001b[38;5;124m\"\u001b[39m\u001b[38;5;124mtranspose\u001b[39m\u001b[38;5;124m\"\u001b[39m, \u001b[38;5;124m\"\u001b[39m\u001b[38;5;124mreshape\u001b[39m\u001b[38;5;124m\"\u001b[39m, \u001b[38;5;124m\"\u001b[39m\u001b[38;5;124mclip\u001b[39m\u001b[38;5;124m\"\u001b[39m, \u001b[38;5;124m\"\u001b[39m\u001b[38;5;124msize\u001b[39m\u001b[38;5;124m\"\u001b[39m,\n\u001b[0;32m    253\u001b[0m             \u001b[38;5;124m\"\u001b[39m\u001b[38;5;124mtolist\u001b[39m\u001b[38;5;124m\"\u001b[39m, \u001b[38;5;124m\"\u001b[39m\u001b[38;5;124mdata\u001b[39m\u001b[38;5;124m\"\u001b[39m}:\n\u001b[0;32m    254\u001b[0m   \u001b[38;5;66;03m# TODO(wangpeng): Export the enable_numpy_behavior knob\u001b[39;00m\n\u001b[0;32m    255\u001b[0m   \u001b[38;5;28;01mraise\u001b[39;00m \u001b[38;5;167;01mAttributeError\u001b[39;00m(\n\u001b[0;32m    256\u001b[0m       \u001b[38;5;124mf\u001b[39m\u001b[38;5;124m\"\u001b[39m\u001b[38;5;132;01m{\u001b[39;00m\u001b[38;5;28mtype\u001b[39m(\u001b[38;5;28mself\u001b[39m)\u001b[38;5;241m.\u001b[39m\u001b[38;5;18m__name__\u001b[39m\u001b[38;5;132;01m}\u001b[39;00m\u001b[38;5;124m object has no attribute \u001b[39m\u001b[38;5;124m'\u001b[39m\u001b[38;5;132;01m{\u001b[39;00mname\u001b[38;5;132;01m}\u001b[39;00m\u001b[38;5;124m'\u001b[39m\u001b[38;5;124m. \u001b[39m\u001b[38;5;124m\"\u001b[39m \u001b[38;5;241m+\u001b[39m \u001b[38;5;124m\"\"\"\u001b[39m\n\u001b[0;32m    257\u001b[0m \u001b[38;5;124m    If you are looking for numpy-related methods, please run the following:\u001b[39m\n\u001b[0;32m    258\u001b[0m \u001b[38;5;124m    tf.experimental.numpy.experimental_enable_numpy_behavior()\u001b[39m\n\u001b[0;32m    259\u001b[0m \u001b[38;5;124m  \u001b[39m\u001b[38;5;124m\"\"\"\u001b[39m)\n\u001b[1;32m--> 260\u001b[0m \u001b[38;5;28;43mself\u001b[39;49m\u001b[38;5;241;43m.\u001b[39;49m\u001b[38;5;21;43m__getattribute__\u001b[39;49m\u001b[43m(\u001b[49m\u001b[43mname\u001b[49m\u001b[43m)\u001b[49m\n",
      "\u001b[1;31mAttributeError\u001b[0m: 'tensorflow.python.framework.ops.EagerTensor' object has no attribute 'assign'"
     ]
    }
   ],
   "source": [
    "# Let's try change our unchangeable_tensor \n",
    "# It will probabily through an error.\n",
    "unchangeable_tensor[0].assign(7)\n",
    "unchangeable_tensor"
   ]
  },
  {
   "cell_type": "markdown",
   "id": "8beb9050-9a95-4b86-b863-b54000680c7f",
   "metadata": {},
   "source": [
    "<p style=\"color:red; font-size:26px;\">Note:</p>\n",
    "\n",
    "-  Rarely in practice will you need to decide whether to use `tf.constant` or `tf.Variable` to create tensors, as Tensorflow does this for you however, if in doubt use tf.constant and tf.Variable change it later if needed."
   ]
  },
  {
   "cell_type": "markdown",
   "id": "381b958b-cfe8-4c88-b2d3-b8f24386c325",
   "metadata": {},
   "source": [
    "## 6. Creating random tensor\n",
    "    Random Tensors are tensor of some abitrary size which contain random numbers.\n",
    "\n",
    "<div>\n",
    "    <img src=\"../assets/11_random_tensor.png\">\n",
    "</div>"
   ]
  },
  {
   "cell_type": "code",
   "execution_count": 36,
   "id": "957a54ff-bbd9-4d2d-9cd8-fe444d1959e2",
   "metadata": {},
   "outputs": [
    {
     "name": "stdout",
     "output_type": "stream",
     "text": [
      "Random Tensor (0 to 1) tf.Tensor(\n",
      "[[0.88814485 0.3834145  0.74727833 0.81971943]\n",
      " [0.96516395 0.09472287 0.8395599  0.82604504]\n",
      " [0.78410304 0.25773227 0.91055346 0.4522406 ]], shape=(3, 4), dtype=float32) \n",
      "\n",
      "Random Tensor (-2 to 1) tf.Tensor(\n",
      "[[-0.75589526  0.4487145  -1.0732496   0.13314629]\n",
      " [-0.2119801  -1.0183179   0.85736585 -1.722616  ]\n",
      " [-1.5763515  -1.1842179   0.8230462  -1.054286  ]], shape=(3, 4), dtype=float32)\n"
     ]
    }
   ],
   "source": [
    "import tensorflow as tf\n",
    "\n",
    "# Create a random tensor of shape (3, 4) with values between 0 and 1\n",
    "random_tensor_tf = tf.random.uniform(shape=(3,4)) \n",
    "'''Uniform distribution: is sometime also known as a rectangualar \n",
    "distribution  is a distribution that as constant probability'''\n",
    "\n",
    "# Create a random tensor with specific min and max values\n",
    "random_tensor_tf_custom = tf.random.uniform(shape=(3,4),minval=-2.0, maxval=1.0)\n",
    "\n",
    "# printing of tensors \n",
    "print(\"Random Tensor (0 to 1)\",random_tensor_tf,\"\\n\")\n",
    "print(\"Random Tensor (-2 to 1)\",random_tensor_tf_custom)"
   ]
  },
  {
   "cell_type": "code",
   "execution_count": 60,
   "id": "d0d54f3a-3a7d-40b1-a3d5-c979b191f01f",
   "metadata": {},
   "outputs": [
    {
     "name": "stdout",
     "output_type": "stream",
     "text": [
      "tf.Tensor(\n",
      "[[ True  True]\n",
      " [ True  True]\n",
      " [ True  True]], shape=(3, 2), dtype=bool)\n"
     ]
    }
   ],
   "source": [
    "# Create two random (but the same) tensors\n",
    "random_1 = tf.random.Generator.from_seed(42) # set seed for reproducibility \n",
    "random_1 = random_1.normal(shape=(3,2)) \n",
    "'''Normal Distribution is the most common or normal form of distribution\n",
    "of Random Variables, hence the name “normal distribution.” \n",
    "It is also called Gaussian Distribution in Statistics or Probability.'''\n",
    "\n",
    "random_2 = tf.random.Generator.from_seed(42)\n",
    "random_2 = random_2.normal(shape=(3,2))\n",
    "\n",
    "# Are they equal ? \n",
    "print(random_1== random_2)\n",
    "\n",
    "# Yes they are because of the seed number."
   ]
  },
  {
   "cell_type": "code",
   "execution_count": 54,
   "id": "494f72ac-e008-448b-a323-a9a97f2af6e6",
   "metadata": {},
   "outputs": [
    {
     "data": {
      "text/plain": [
       "(<tf.Tensor: shape=(3, 2), dtype=float32, numpy=\n",
       " array([[-0.7565803 , -0.06854702],\n",
       "        [ 0.07595026, -1.2573844 ],\n",
       "        [-0.23193763, -1.8107855 ]], dtype=float32)>,\n",
       " <tf.Tensor: shape=(3, 2), dtype=float32, numpy=\n",
       " array([[-0.7565803 , -0.06854702],\n",
       "        [ 0.07595026, -1.2573844 ],\n",
       "        [-0.23193763, -1.8107855 ]], dtype=float32)>)"
      ]
     },
     "execution_count": 54,
     "metadata": {},
     "output_type": "execute_result"
    }
   ],
   "source": [
    "random_1,random_2"
   ]
  },
  {
   "cell_type": "code",
   "execution_count": 62,
   "id": "ea547fc4-2f91-410c-b966-2aa96c081624",
   "metadata": {},
   "outputs": [
    {
     "name": "stdout",
     "output_type": "stream",
     "text": [
      "tf.Tensor(\n",
      "[[False False]\n",
      " [False False]\n",
      " [False False]], shape=(3, 2), dtype=bool)\n"
     ]
    }
   ],
   "source": [
    "# Create two random (but the same) tensors\n",
    "random_1 = tf.random.Generator.from_seed(42) # set seed for reproducibility \n",
    "random_1 = random_1.normal(shape=(3,2)) \n",
    "'''Normal Distribution is the most common or normal form of distribution\n",
    "of Random Variables, hence the name “normal distribution.” \n",
    "It is also called Gaussian Distribution in Statistics or Probability.'''\n",
    "\n",
    "random_2 = tf.random.Generator.from_seed(43)\n",
    "random_2 = random_2.normal(shape=(3,2))\n",
    "\n",
    "# Are they equal ? \n",
    "print(random_1== random_2)\n",
    "\n",
    "# No, they aren't equal"
   ]
  },
  {
   "cell_type": "code",
   "execution_count": 58,
   "id": "2159bcbe-fafd-464d-bb64-32de5bf38fb3",
   "metadata": {},
   "outputs": [
    {
     "data": {
      "text/plain": [
       "(<tf.Tensor: shape=(3, 2), dtype=float32, numpy=\n",
       " array([[-0.7565803 , -0.06854702],\n",
       "        [ 0.07595026, -1.2573844 ],\n",
       "        [-0.23193763, -1.8107855 ]], dtype=float32)>,\n",
       " <tf.Tensor: shape=(3, 2), dtype=float32, numpy=\n",
       " array([[-0.23193763, -1.8107855 ],\n",
       "        [ 0.09988727, -0.50998646],\n",
       "        [-0.7535805 , -0.57166284]], dtype=float32)>)"
      ]
     },
     "execution_count": 58,
     "metadata": {},
     "output_type": "execute_result"
    }
   ],
   "source": [
    "random_1,random_2"
   ]
  },
  {
   "cell_type": "code",
   "execution_count": null,
   "id": "67ae1291-e345-408e-9925-5016d0ddf344",
   "metadata": {},
   "outputs": [],
   "source": []
  },
  {
   "cell_type": "code",
   "execution_count": null,
   "id": "57f0176d-8174-42c6-af71-3c0eecf8059a",
   "metadata": {},
   "outputs": [],
   "source": []
  }
 ],
 "metadata": {
  "kernelspec": {
   "display_name": "Python 3 (ipykernel)",
   "language": "python",
   "name": "python3"
  },
  "language_info": {
   "codemirror_mode": {
    "name": "ipython",
    "version": 3
   },
   "file_extension": ".py",
   "mimetype": "text/x-python",
   "name": "python",
   "nbconvert_exporter": "python",
   "pygments_lexer": "ipython3",
   "version": "3.12.3"
  },
  "widgets": {
   "application/vnd.jupyter.widget-state+json": {
    "state": {},
    "version_major": 2,
    "version_minor": 0
   }
  }
 },
 "nbformat": 4,
 "nbformat_minor": 5
}
