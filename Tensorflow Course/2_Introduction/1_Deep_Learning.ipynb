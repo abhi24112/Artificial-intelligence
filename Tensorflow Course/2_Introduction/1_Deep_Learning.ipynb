{
 "cells": [
  {
   "attachments": {},
   "cell_type": "markdown",
   "id": "9854b5e7-cdfc-46e9-bb3c-b7b94fe01cad",
   "metadata": {},
   "source": [
    "<div>\n",
    "    <img src=\"../assets/1_header.png\">\n",
    "</div>"
   ]
  },
  {
   "cell_type": "markdown",
   "id": "7052ea45-eefa-4d69-9d0c-91acf77fe102",
   "metadata": {},
   "source": [
    "# What is the Deep Learning?\n",
    "-  It is a type of machine learning based on artificial neural networks in which multiple layers of processing are useed to extract progressively higher level features from data."
   ]
  },
  {
   "attachments": {},
   "cell_type": "markdown",
   "id": "4097cc32-b33e-4a43-8aec-3fbc937ef33f",
   "metadata": {},
   "source": [
    "<div>\n",
    "    <img src=\"../assets/2_ml_vs_dl.png\">\n",
    "</div>"
   ]
  },
  {
   "attachments": {},
   "cell_type": "markdown",
   "id": "d892c292-5b14-45d1-933d-c140e9e8c4d5",
   "metadata": {
    "jp-MarkdownHeadingCollapsed": true
   },
   "source": [
    "# Traditional vs Machine learning Programming\n",
    "\n",
    "<div>\n",
    "    <img src=\"../assets/3_traditional_vs_ml.png\">\n",
    "</div>\n",
    "\n",
    "- I think we can use ML for literally anything as long as you can convert it into numbers and program it to find the pattern.Literally it could be anything any input or output from the universe."
   ]
  },
  {
   "cell_type": "markdown",
   "id": "c5a0c397-c798-4efb-b363-4ef5ddbfa61a",
   "metadata": {},
   "source": [
    "# What deep learning is good for? \n",
    "- Problems with long lists of rules.\n",
    "- Continually changing enviroments.\n",
    "- Discovering insights within large collections of data.\n",
    "\n",
    "# What deep learning is (tyically) not good for ?\n",
    "- When you need explainability.\n",
    "- When the traditional approach is a better option.\n",
    "- When errors are unacceptable.\n",
    "- When you don't have much data."
   ]
  },
  {
   "attachments": {},
   "cell_type": "markdown",
   "id": "1d52317e-2256-43c9-9c46-ab9ca390938f",
   "metadata": {},
   "source": [
    "# Machine learning Vs Deep Learning\n",
    "\n",
    "<div>\n",
    "    <img src=\"../assets/4_ml_vs_dl.png\">\n",
    "</div>\n",
    "\n",
    "## Common Algorithms\n",
    "<div>\n",
    "    <img src=\"../assets/5_ml_and_dl_algo.png\">\n",
    "</div>"
   ]
  },
  {
   "cell_type": "markdown",
   "id": "031f1f62-03c7-4f20-bb87-654e9da34cb8",
   "metadata": {},
   "source": [
    "# What is Neural Networks\n",
    "- A neural network is a computational model inspired by the way biological neural networks in the human brain process information. It consists of interconnected nodes or neurons that work together to solve complex problems, such as pattern recognition and decision-making.\n",
    "\n",
    "<div>\n",
    "    <img src=\"../assets/6_neural_network.png\">\n",
    "</div>"
   ]
  },
  {
   "cell_type": "markdown",
   "id": "8c32ac6a-fe47-4572-81bb-9afbdd2988f2",
   "metadata": {},
   "source": [
    "# Anatomy of Neural Network\n",
    "\n",
    "<div>\n",
    "    <img src=\"../assets/7_anatomy_of_nn.png\">\n",
    "</div>"
   ]
  },
  {
   "cell_type": "markdown",
   "id": "4b3e26f0-2f67-461e-b4ee-6a1880cccf1f",
   "metadata": {},
   "source": [
    "# What is Deep Learning Use for ?? \n",
    "\n",
    "- I think we can use ML for literally anything as long as you can convert it into numbers and program it to find the pattern.Literally it could be anything any input or output from the universe.\n",
    "\n",
    "<div>\n",
    "    <img src=\"../assets/8_dl_uses.png\">\n",
    "</div>\n",
    "\n",
    "- Use Cases:\n",
    "    1. Self Driving Cars\n",
    "    2. News Aggregation and Fraud News Detection\n",
    "    3. Natural Language Processing\n",
    "    4. Virtual Assistants\n",
    "    5. Entertainment\n",
    "    6. Visual Recognition\n",
    "    7. Fraud Detection\n",
    "    8. Healthcare\n",
    "    9. Personalisations\n",
    "    10. etc..."
   ]
  }
 ],
 "metadata": {
  "kernelspec": {
   "display_name": "Python 3 (ipykernel)",
   "language": "python",
   "name": "python3"
  },
  "language_info": {
   "codemirror_mode": {
    "name": "ipython",
    "version": 3
   },
   "file_extension": ".py",
   "mimetype": "text/x-python",
   "name": "python",
   "nbconvert_exporter": "python",
   "pygments_lexer": "ipython3",
   "version": "3.12.3"
  },
  "widgets": {
   "application/vnd.jupyter.widget-state+json": {
    "state": {},
    "version_major": 2,
    "version_minor": 0
   }
  }
 },
 "nbformat": 4,
 "nbformat_minor": 5
}
