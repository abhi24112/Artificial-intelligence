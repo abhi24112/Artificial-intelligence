{
 "cells": [
  {
   "attachments": {},
   "cell_type": "markdown",
   "id": "d4e1538a-6351-47e9-8ff7-2339a1019dec",
   "metadata": {},
   "source": [
    "<div>\n",
    "    <img src=\"../assets/1_header.png\">\n",
    "</div>"
   ]
  },
  {
   "cell_type": "markdown",
   "id": "e73a781a-a6c4-4602-81fb-4770b6fa8372",
   "metadata": {},
   "source": [
    "# 1. What is Tensorflow ? \n",
    "<div>\n",
    "    <img src=\"../assets/9_what_is_tensorflow.png\">\n",
    "</div>"
   ]
  },
  {
   "cell_type": "markdown",
   "id": "e19defbe-5899-4059-8f90-061d53abca62",
   "metadata": {},
   "source": [
    "# 2. What is Tensor ?? \n",
    "- In TensorFlow, a tensor is a multi-dimensional array that represents the fundamental data structure used for computations.\n",
    "Here's a breakdown of its key aspects:\n",
    "\n",
    "1. Multi-dimensional array:\n",
    "Think of a tensor as a generalization of vectors and matrices to higher dimensions. A scalar is a 0-dimensional tensor, a vector is a 1-dimensional tensor, a matrix is a 2-dimensional tensor, and so on.\n",
    "\n",
    "3. Data type:\n",
    "Tensors have a uniform data type (e.g., float32, int64), which specifies the type of values stored within the tensor.\n",
    "\n",
    "\n",
    "5. Immutable:\n",
    "Tensors are immutable, meaning that their contents cannot be modified once created. Instead, operations on tensors create new tensors.\n",
    "\n",
    "\n",
    "7. Flow of data:\n",
    "The name \"TensorFlow\" reflects the flow of tensors through a computational graph. Tensors are passed between nodes in the graph, representing the input and output of operations.\n",
    "\n",
    "\n",
    "9. Analogy: You can think of tensors as containers that hold data, similar to NumPy arrays. However, tensors offer additional functionalities for efficient computation on GPUs and distributed systems, making them suitable for large-scale machine learning tasks.\n",
    "\n",
    "<div>\n",
    "    <img src=\"../assets/10_tensor.png\">\n",
    "</div>"
   ]
  },
  {
   "cell_type": "markdown",
   "id": "2a1eab2f-1837-4e82-86cd-47bae6d622c5",
   "metadata": {},
   "source": [
    "# 3. Introduction of Tensorflow"
   ]
  },
  {
   "cell_type": "code",
   "execution_count": 3,
   "id": "1aff05b5-91ed-4e31-ae02-6901ab43face",
   "metadata": {},
   "outputs": [
    {
     "name": "stdout",
     "output_type": "stream",
     "text": [
      "2.17.0\n"
     ]
    }
   ],
   "source": [
    "# import TensorFlow \n",
    "import tensorflow as tf \n",
    "print(tf.__version__)"
   ]
  },
  {
   "cell_type": "code",
   "execution_count": 4,
   "id": "4d2c9c92-6a47-4089-83a2-2c7c0383a1e4",
   "metadata": {},
   "outputs": [
    {
     "data": {
      "text/plain": [
       "<tf.Tensor: shape=(), dtype=int32, numpy=7>"
      ]
     },
     "execution_count": 4,
     "metadata": {},
     "output_type": "execute_result"
    }
   ],
   "source": [
    "# create tensors with tf.contant() \n",
    "scalar = tf.constant(7)\n",
    "scalar"
   ]
  },
  {
   "cell_type": "code",
   "execution_count": 5,
   "id": "3b35ef0c-2c29-4e79-8111-8a9134acada3",
   "metadata": {},
   "outputs": [
    {
     "data": {
      "text/plain": [
       "0"
      ]
     },
     "execution_count": 5,
     "metadata": {},
     "output_type": "execute_result"
    }
   ],
   "source": [
    "# check the number of dimension of a tensor (ndim stands for  no. of dimension)\n",
    "scalar.ndim"
   ]
  },
  {
   "cell_type": "code",
   "execution_count": 6,
   "id": "5991cba7-d2f4-4fdd-9891-21115dd66261",
   "metadata": {},
   "outputs": [
    {
     "data": {
      "text/plain": [
       "<tf.Tensor: shape=(2,), dtype=int32, numpy=array([10, 10])>"
      ]
     },
     "execution_count": 6,
     "metadata": {},
     "output_type": "execute_result"
    }
   ],
   "source": [
    "# create a vector\n",
    "vector= tf.constant([10,10])\n",
    "vector"
   ]
  },
  {
   "cell_type": "code",
   "execution_count": 7,
   "id": "b4ecbd3d-f972-4953-8bf9-9a2101211c7d",
   "metadata": {},
   "outputs": [
    {
     "data": {
      "text/plain": [
       "1"
      ]
     },
     "execution_count": 7,
     "metadata": {},
     "output_type": "execute_result"
    }
   ],
   "source": [
    "# check the number of dimension of a vector\n",
    "vector.ndim"
   ]
  },
  {
   "cell_type": "code",
   "execution_count": 8,
   "id": "77c73d2a-0741-4d31-ad65-98cdeb5e3347",
   "metadata": {},
   "outputs": [
    {
     "data": {
      "text/plain": [
       "<tf.Tensor: shape=(2, 2), dtype=int32, numpy=\n",
       "array([[10,  7],\n",
       "       [ 7, 10]])>"
      ]
     },
     "execution_count": 8,
     "metadata": {},
     "output_type": "execute_result"
    }
   ],
   "source": [
    "# create a matrix (has more than 1 dimension)\n",
    "matrix = tf.constant([[10,7],\n",
    "                     [7,10]])\n",
    "matrix"
   ]
  },
  {
   "cell_type": "code",
   "execution_count": 9,
   "id": "b0361abc-7077-4cdc-ac74-30f636a7320c",
   "metadata": {},
   "outputs": [
    {
     "data": {
      "text/plain": [
       "2"
      ]
     },
     "execution_count": 9,
     "metadata": {},
     "output_type": "execute_result"
    }
   ],
   "source": [
    "matrix.ndim"
   ]
  },
  {
   "cell_type": "code",
   "execution_count": 10,
   "id": "9d91db0c-d600-4f21-a141-57c7cdb9efbb",
   "metadata": {},
   "outputs": [
    {
     "data": {
      "text/plain": [
       "<tf.Tensor: shape=(3, 2), dtype=float16, numpy=\n",
       "array([[10.,  7.],\n",
       "       [ 3.,  2.],\n",
       "       [ 8.,  9.]], dtype=float16)>"
      ]
     },
     "execution_count": 10,
     "metadata": {},
     "output_type": "execute_result"
    }
   ],
   "source": [
    "# create another matrix \n",
    "another_matrix = tf.constant([[10.,7.],\n",
    "                             [3.,2.],\n",
    "                             [8.,9.]], dtype=tf.float16) \n",
    "#specify the data type  with dtype parameters.\n",
    "another_matrix"
   ]
  },
  {
   "cell_type": "code",
   "execution_count": 11,
   "id": "22194f18-997e-433d-b0ce-26fea610b776",
   "metadata": {},
   "outputs": [
    {
     "data": {
      "text/plain": [
       "2"
      ]
     },
     "execution_count": 11,
     "metadata": {},
     "output_type": "execute_result"
    }
   ],
   "source": [
    "# What's the number of dimensions of another_matrix \n",
    "another_matrix.ndim"
   ]
  },
  {
   "cell_type": "code",
   "execution_count": 12,
   "id": "1852ddc2-1ac7-4fdf-be52-fd1ab37ab8a8",
   "metadata": {},
   "outputs": [
    {
     "data": {
      "text/plain": [
       "<tf.Tensor: shape=(2, 2, 3), dtype=int32, numpy=\n",
       "array([[[ 1,  2,  3],\n",
       "        [ 4,  5,  6]],\n",
       "\n",
       "       [[ 7,  8,  9],\n",
       "        [10, 11, 12]]])>"
      ]
     },
     "execution_count": 12,
     "metadata": {},
     "output_type": "execute_result"
    }
   ],
   "source": [
    "# Let's create a tensor \n",
    "tensor =tf.constant([[[1,2,3],\n",
    "                     [4,5,6]],\n",
    "                     [[7,8,9],\n",
    "                     [10,11,12]]])\n",
    "tensor"
   ]
  },
  {
   "cell_type": "code",
   "execution_count": 13,
   "id": "33ee557b-6d8f-494b-9e81-3b3055d1359f",
   "metadata": {},
   "outputs": [
    {
     "data": {
      "text/plain": [
       "3"
      ]
     },
     "execution_count": 13,
     "metadata": {},
     "output_type": "execute_result"
    }
   ],
   "source": [
    "tensor.ndim"
   ]
  },
  {
   "cell_type": "markdown",
   "id": "c17eb544-2223-4cd2-8e8d-0920b3c96bc6",
   "metadata": {},
   "source": [
    "### What we've create so far:\n",
    "* Scalar: a single number \n",
    "* Vector: a number with direction (e.g. wind speed and direction)\n",
    "* Matrix: a 2-dimensional array of number.\n",
    "* Tensor: is a n-dimensional array of numbers (where n can be any number, a 0-dimensional tensor is a scalar, a1-dimensional)"
   ]
  },
  {
   "cell_type": "markdown",
   "id": "925abc29-df3e-424e-a315-567e09fbd949",
   "metadata": {},
   "source": [
    "# 4. Creating tensors with `tf.tensor`"
   ]
  },
  {
   "cell_type": "code",
   "execution_count": 16,
   "id": "906ddb8f-408c-43f2-b29a-385ea1d4e445",
   "metadata": {},
   "outputs": [
    {
     "data": {
      "text/plain": [
       "(<tf.Variable 'Variable:0' shape=(2,) dtype=int32, numpy=array([10,  7])>,\n",
       " <tf.Tensor: shape=(2,), dtype=int32, numpy=array([10,  7])>)"
      ]
     },
     "execution_count": 16,
     "metadata": {},
     "output_type": "execute_result"
    }
   ],
   "source": [
    "# create the same tensor with tf.variable() as above \n",
    "changeable_tensor = tf.Variable([10,7])\n",
    "unchangeable_tensor = tf.constant([10,7])\n",
    "changeable_tensor,unchangeable_tensor"
   ]
  },
  {
   "cell_type": "code",
   "execution_count": 17,
   "id": "9984732e-98a1-4f67-bf67-41930f99a9b1",
   "metadata": {},
   "outputs": [
    {
     "ename": "TypeError",
     "evalue": "'ResourceVariable' object does not support item assignment",
     "output_type": "error",
     "traceback": [
      "\u001b[1;31m---------------------------------------------------------------------------\u001b[0m",
      "\u001b[1;31mTypeError\u001b[0m                                 Traceback (most recent call last)",
      "Cell \u001b[1;32mIn[17], line 2\u001b[0m\n\u001b[0;32m      1\u001b[0m \u001b[38;5;66;03m# Let's try change one of the elements in our changeable_tensor \u001b[39;00m\n\u001b[1;32m----> 2\u001b[0m \u001b[43mchangeable_tensor\u001b[49m\u001b[43m[\u001b[49m\u001b[38;5;241;43m0\u001b[39;49m\u001b[43m]\u001b[49m \u001b[38;5;241m=\u001b[39m \u001b[38;5;241m7\u001b[39m \n\u001b[0;32m      3\u001b[0m changeable_tensor\n",
      "\u001b[1;31mTypeError\u001b[0m: 'ResourceVariable' object does not support item assignment"
     ]
    }
   ],
   "source": [
    "# Let's try change one of the elements in our changeable_tensor \n",
    "changeable_tensor[0] = 7 \n",
    "changeable_tensor"
   ]
  },
  {
   "cell_type": "code",
   "execution_count": 58,
   "id": "00dd6f0b-27e2-4842-9d27-ddc323de81d5",
   "metadata": {},
   "outputs": [
    {
     "data": {
      "text/plain": [
       "<tf.Variable 'Variable:0' shape=(2,) dtype=int32, numpy=array([7, 7])>"
      ]
     },
     "execution_count": 58,
     "metadata": {},
     "output_type": "execute_result"
    }
   ],
   "source": [
    "# How about we try .assign()\n",
    "changeable_tensor[0].assign(7)\n",
    "changeable_tensor"
   ]
  },
  {
   "cell_type": "code",
   "execution_count": 19,
   "id": "42e9f79b-72bb-4a4b-b7fe-ff97eccae767",
   "metadata": {
    "scrolled": true
   },
   "outputs": [
    {
     "ename": "AttributeError",
     "evalue": "'tensorflow.python.framework.ops.EagerTensor' object has no attribute 'assign'",
     "output_type": "error",
     "traceback": [
      "\u001b[1;31m---------------------------------------------------------------------------\u001b[0m",
      "\u001b[1;31mAttributeError\u001b[0m                            Traceback (most recent call last)",
      "Cell \u001b[1;32mIn[19], line 3\u001b[0m\n\u001b[0;32m      1\u001b[0m \u001b[38;5;66;03m# Let's try change our unchangeable_tensor \u001b[39;00m\n\u001b[0;32m      2\u001b[0m \u001b[38;5;66;03m# It will probabily through an error.\u001b[39;00m\n\u001b[1;32m----> 3\u001b[0m \u001b[43munchangeable_tensor\u001b[49m\u001b[43m[\u001b[49m\u001b[38;5;241;43m0\u001b[39;49m\u001b[43m]\u001b[49m\u001b[38;5;241;43m.\u001b[39;49m\u001b[43massign\u001b[49m(\u001b[38;5;241m7\u001b[39m)\n\u001b[0;32m      4\u001b[0m unchangeable_tensor\n",
      "File \u001b[1;32m~\\anaconda3\\Lib\\site-packages\\tensorflow\\python\\framework\\tensor.py:260\u001b[0m, in \u001b[0;36mTensor.__getattr__\u001b[1;34m(self, name)\u001b[0m\n\u001b[0;32m    252\u001b[0m \u001b[38;5;28;01mif\u001b[39;00m name \u001b[38;5;129;01min\u001b[39;00m {\u001b[38;5;124m\"\u001b[39m\u001b[38;5;124mT\u001b[39m\u001b[38;5;124m\"\u001b[39m, \u001b[38;5;124m\"\u001b[39m\u001b[38;5;124mastype\u001b[39m\u001b[38;5;124m\"\u001b[39m, \u001b[38;5;124m\"\u001b[39m\u001b[38;5;124mravel\u001b[39m\u001b[38;5;124m\"\u001b[39m, \u001b[38;5;124m\"\u001b[39m\u001b[38;5;124mtranspose\u001b[39m\u001b[38;5;124m\"\u001b[39m, \u001b[38;5;124m\"\u001b[39m\u001b[38;5;124mreshape\u001b[39m\u001b[38;5;124m\"\u001b[39m, \u001b[38;5;124m\"\u001b[39m\u001b[38;5;124mclip\u001b[39m\u001b[38;5;124m\"\u001b[39m, \u001b[38;5;124m\"\u001b[39m\u001b[38;5;124msize\u001b[39m\u001b[38;5;124m\"\u001b[39m,\n\u001b[0;32m    253\u001b[0m             \u001b[38;5;124m\"\u001b[39m\u001b[38;5;124mtolist\u001b[39m\u001b[38;5;124m\"\u001b[39m, \u001b[38;5;124m\"\u001b[39m\u001b[38;5;124mdata\u001b[39m\u001b[38;5;124m\"\u001b[39m}:\n\u001b[0;32m    254\u001b[0m   \u001b[38;5;66;03m# TODO(wangpeng): Export the enable_numpy_behavior knob\u001b[39;00m\n\u001b[0;32m    255\u001b[0m   \u001b[38;5;28;01mraise\u001b[39;00m \u001b[38;5;167;01mAttributeError\u001b[39;00m(\n\u001b[0;32m    256\u001b[0m       \u001b[38;5;124mf\u001b[39m\u001b[38;5;124m\"\u001b[39m\u001b[38;5;132;01m{\u001b[39;00m\u001b[38;5;28mtype\u001b[39m(\u001b[38;5;28mself\u001b[39m)\u001b[38;5;241m.\u001b[39m\u001b[38;5;18m__name__\u001b[39m\u001b[38;5;132;01m}\u001b[39;00m\u001b[38;5;124m object has no attribute \u001b[39m\u001b[38;5;124m'\u001b[39m\u001b[38;5;132;01m{\u001b[39;00mname\u001b[38;5;132;01m}\u001b[39;00m\u001b[38;5;124m'\u001b[39m\u001b[38;5;124m. \u001b[39m\u001b[38;5;124m\"\u001b[39m \u001b[38;5;241m+\u001b[39m \u001b[38;5;124m\"\"\"\u001b[39m\n\u001b[0;32m    257\u001b[0m \u001b[38;5;124m    If you are looking for numpy-related methods, please run the following:\u001b[39m\n\u001b[0;32m    258\u001b[0m \u001b[38;5;124m    tf.experimental.numpy.experimental_enable_numpy_behavior()\u001b[39m\n\u001b[0;32m    259\u001b[0m \u001b[38;5;124m  \u001b[39m\u001b[38;5;124m\"\"\"\u001b[39m)\n\u001b[1;32m--> 260\u001b[0m \u001b[38;5;28;43mself\u001b[39;49m\u001b[38;5;241;43m.\u001b[39;49m\u001b[38;5;21;43m__getattribute__\u001b[39;49m\u001b[43m(\u001b[49m\u001b[43mname\u001b[49m\u001b[43m)\u001b[49m\n",
      "\u001b[1;31mAttributeError\u001b[0m: 'tensorflow.python.framework.ops.EagerTensor' object has no attribute 'assign'"
     ]
    }
   ],
   "source": [
    "# Let's try change our unchangeable_tensor \n",
    "# It will probabily through an error.\n",
    "unchangeable_tensor[0].assign(7)\n",
    "unchangeable_tensor"
   ]
  },
  {
   "cell_type": "markdown",
   "id": "8beb9050-9a95-4b86-b863-b54000680c7f",
   "metadata": {},
   "source": [
    "<p style=\"color:red; font-size:26px;\">Note:</p>\n",
    "\n",
    "-  Rarely in practice will you need to decide whether to use `tf.constant` or `tf.Variable` to create tensors, as Tensorflow does this for you however, if in doubt use tf.constant and tf.Variable change it later if needed."
   ]
  },
  {
   "cell_type": "markdown",
   "id": "381b958b-cfe8-4c88-b2d3-b8f24386c325",
   "metadata": {},
   "source": [
    "# 5. Creating random tensor\n",
    "    Random Tensors are tensor of some abitrary size which contain random numbers.\n",
    "\n",
    "<div>\n",
    "    <img src=\"../assets/11_random_tensor.png\">\n",
    "</div>"
   ]
  },
  {
   "cell_type": "code",
   "execution_count": 36,
   "id": "957a54ff-bbd9-4d2d-9cd8-fe444d1959e2",
   "metadata": {},
   "outputs": [
    {
     "name": "stdout",
     "output_type": "stream",
     "text": [
      "Random Tensor (0 to 1) tf.Tensor(\n",
      "[[0.88814485 0.3834145  0.74727833 0.81971943]\n",
      " [0.96516395 0.09472287 0.8395599  0.82604504]\n",
      " [0.78410304 0.25773227 0.91055346 0.4522406 ]], shape=(3, 4), dtype=float32) \n",
      "\n",
      "Random Tensor (-2 to 1) tf.Tensor(\n",
      "[[-0.75589526  0.4487145  -1.0732496   0.13314629]\n",
      " [-0.2119801  -1.0183179   0.85736585 -1.722616  ]\n",
      " [-1.5763515  -1.1842179   0.8230462  -1.054286  ]], shape=(3, 4), dtype=float32)\n"
     ]
    }
   ],
   "source": [
    "import tensorflow as tf\n",
    "\n",
    "# Create a random tensor of shape (3, 4) with values between 0 and 1\n",
    "random_tensor_tf = tf.random.uniform(shape=(3,4)) \n",
    "'''Uniform distribution: is sometime also known as a rectangualar \n",
    "distribution  is a distribution that as constant probability'''\n",
    "\n",
    "# Create a random tensor with specific min and max values\n",
    "random_tensor_tf_custom = tf.random.uniform(shape=(3,4),minval=-2.0, maxval=1.0)\n",
    "\n",
    "# printing of tensors \n",
    "print(\"Random Tensor (0 to 1)\",random_tensor_tf,\"\\n\")\n",
    "print(\"Random Tensor (-2 to 1)\",random_tensor_tf_custom)"
   ]
  },
  {
   "cell_type": "code",
   "execution_count": 60,
   "id": "d0d54f3a-3a7d-40b1-a3d5-c979b191f01f",
   "metadata": {},
   "outputs": [
    {
     "name": "stdout",
     "output_type": "stream",
     "text": [
      "tf.Tensor(\n",
      "[[ True  True]\n",
      " [ True  True]\n",
      " [ True  True]], shape=(3, 2), dtype=bool)\n"
     ]
    }
   ],
   "source": [
    "# Create two random (but the same) tensors\n",
    "random_1 = tf.random.Generator.from_seed(42) # set seed for reproducibility \n",
    "random_1 = random_1.normal(shape=(3,2)) \n",
    "'''Normal Distribution is the most common or normal form of distribution\n",
    "of Random Variables, hence the name “normal distribution.” \n",
    "It is also called Gaussian Distribution in Statistics or Probability.'''\n",
    "\n",
    "random_2 = tf.random.Generator.from_seed(42)\n",
    "random_2 = random_2.normal(shape=(3,2))\n",
    "\n",
    "# Are they equal ? \n",
    "print(random_1== random_2)\n",
    "\n",
    "# Yes they are because of the seed number."
   ]
  },
  {
   "cell_type": "code",
   "execution_count": 54,
   "id": "494f72ac-e008-448b-a323-a9a97f2af6e6",
   "metadata": {},
   "outputs": [
    {
     "data": {
      "text/plain": [
       "(<tf.Tensor: shape=(3, 2), dtype=float32, numpy=\n",
       " array([[-0.7565803 , -0.06854702],\n",
       "        [ 0.07595026, -1.2573844 ],\n",
       "        [-0.23193763, -1.8107855 ]], dtype=float32)>,\n",
       " <tf.Tensor: shape=(3, 2), dtype=float32, numpy=\n",
       " array([[-0.7565803 , -0.06854702],\n",
       "        [ 0.07595026, -1.2573844 ],\n",
       "        [-0.23193763, -1.8107855 ]], dtype=float32)>)"
      ]
     },
     "execution_count": 54,
     "metadata": {},
     "output_type": "execute_result"
    }
   ],
   "source": [
    "random_1,random_2"
   ]
  },
  {
   "cell_type": "code",
   "execution_count": 62,
   "id": "ea547fc4-2f91-410c-b966-2aa96c081624",
   "metadata": {},
   "outputs": [
    {
     "name": "stdout",
     "output_type": "stream",
     "text": [
      "tf.Tensor(\n",
      "[[False False]\n",
      " [False False]\n",
      " [False False]], shape=(3, 2), dtype=bool)\n"
     ]
    }
   ],
   "source": [
    "# Create two random (but the same) tensors\n",
    "random_1 = tf.random.Generator.from_seed(42) # set seed for reproducibility \n",
    "random_1 = random_1.normal(shape=(3,2)) \n",
    "'''Normal Distribution is the most common or normal form of distribution\n",
    "of Random Variables, hence the name “normal distribution.” \n",
    "It is also called Gaussian Distribution in Statistics or Probability.'''\n",
    "\n",
    "random_2 = tf.random.Generator.from_seed(43)\n",
    "random_2 = random_2.normal(shape=(3,2))\n",
    "\n",
    "# Are they equal ? \n",
    "print(random_1== random_2)\n",
    "\n",
    "# No, they aren't equal"
   ]
  },
  {
   "cell_type": "code",
   "execution_count": 58,
   "id": "2159bcbe-fafd-464d-bb64-32de5bf38fb3",
   "metadata": {},
   "outputs": [
    {
     "data": {
      "text/plain": [
       "(<tf.Tensor: shape=(3, 2), dtype=float32, numpy=\n",
       " array([[-0.7565803 , -0.06854702],\n",
       "        [ 0.07595026, -1.2573844 ],\n",
       "        [-0.23193763, -1.8107855 ]], dtype=float32)>,\n",
       " <tf.Tensor: shape=(3, 2), dtype=float32, numpy=\n",
       " array([[-0.23193763, -1.8107855 ],\n",
       "        [ 0.09988727, -0.50998646],\n",
       "        [-0.7535805 , -0.57166284]], dtype=float32)>)"
      ]
     },
     "execution_count": 58,
     "metadata": {},
     "output_type": "execute_result"
    }
   ],
   "source": [
    "random_1,random_2"
   ]
  },
  {
   "cell_type": "markdown",
   "id": "c5905d6d-bfa9-4ff7-b0f0-8af4d5d3f8e7",
   "metadata": {},
   "source": [
    "# 6. Shuffle the order of elements in a tensor"
   ]
  },
  {
   "cell_type": "markdown",
   "id": "32d10b17-0c5a-426a-babb-95ff8dfc6176",
   "metadata": {},
   "source": [
    "-  Syntax\n",
    "  \n",
    "`tf.random.shuffle(value, seed=None, name=None)`\n",
    "\n",
    "1. value: A Tensor to be shuffled.\n",
    "2. seed: A Python integer. Used to create a random seed for the distribution. See tf.random.set_seed for behavior.\n",
    "4. name: A name for the operation (optional)."
   ]
  },
  {
   "cell_type": "code",
   "execution_count": 21,
   "id": "d0964d26-0dc2-46e9-afd2-6ff928b27ea7",
   "metadata": {},
   "outputs": [
    {
     "data": {
      "text/plain": [
       "2"
      ]
     },
     "execution_count": 21,
     "metadata": {},
     "output_type": "execute_result"
    }
   ],
   "source": [
    "# shuffle a tensor (valuable for when you want to shuffle your data so the inherent order doesn't effect learning)\n",
    "not_shuffle =  tf.constant([[10,7],[3,4],[2,5]])\n",
    "not_shuffle.ndim"
   ]
  },
  {
   "cell_type": "code",
   "execution_count": 23,
   "id": "076c9e84-ccfe-4c81-aba6-e171547ba20a",
   "metadata": {},
   "outputs": [
    {
     "data": {
      "text/plain": [
       "<tf.Tensor: shape=(3, 2), dtype=int32, numpy=\n",
       "array([[10,  7],\n",
       "       [ 3,  4],\n",
       "       [ 2,  5]])>"
      ]
     },
     "execution_count": 23,
     "metadata": {},
     "output_type": "execute_result"
    }
   ],
   "source": [
    "not_shuffle"
   ]
  },
  {
   "cell_type": "code",
   "execution_count": 54,
   "id": "c130ba69-9057-43ea-a1f2-e9993bf18790",
   "metadata": {},
   "outputs": [
    {
     "data": {
      "text/plain": [
       "<tf.Tensor: shape=(3, 2), dtype=int32, numpy=\n",
       "array([[ 2,  5],\n",
       "       [10,  7],\n",
       "       [ 3,  4]])>"
      ]
     },
     "execution_count": 54,
     "metadata": {},
     "output_type": "execute_result"
    }
   ],
   "source": [
    "# shuffle our not_shuffle tensor \n",
    "tf.random.shuffle(not_shuffle)"
   ]
  },
  {
   "cell_type": "code",
   "execution_count": 72,
   "id": "8895ad9d-ff3b-4793-bacc-e4a3b3f9310a",
   "metadata": {},
   "outputs": [
    {
     "data": {
      "text/plain": [
       "<tf.Tensor: shape=(3, 2), dtype=int32, numpy=\n",
       "array([[ 3,  4],\n",
       "       [ 2,  5],\n",
       "       [10,  7]])>"
      ]
     },
     "execution_count": 72,
     "metadata": {},
     "output_type": "execute_result"
    }
   ],
   "source": [
    "# still getting different tensor \n",
    "tf.random.shuffle(not_shuffle,seed=42)"
   ]
  },
  {
   "cell_type": "markdown",
   "id": "32cc7d48-4b2b-43d9-bffa-e3341f244fdf",
   "metadata": {},
   "source": [
    "-  It lookslike if we want our shuffled tensors to be the same order , we've got to use the global level random seed as well as the operation level reandom seed: \n",
    "\n",
    "    - **Rule:** If both the global and the operation seed are set: Both seeds are used in conjunction to determine the random sequence."
   ]
  },
  {
   "cell_type": "code",
   "execution_count": 117,
   "id": "4b932112-340a-4ef6-80d1-e26f6e386ab9",
   "metadata": {},
   "outputs": [
    {
     "data": {
      "text/plain": [
       "<tf.Tensor: shape=(3, 2), dtype=int32, numpy=\n",
       "array([[10,  7],\n",
       "       [ 3,  4],\n",
       "       [ 2,  5]])>"
      ]
     },
     "execution_count": 117,
     "metadata": {},
     "output_type": "execute_result"
    }
   ],
   "source": [
    "tf.random.set_seed(42) # global level random seed \n",
    "tf.random.shuffle(not_shuffle,seed=42) # operational level random seed "
   ]
  },
  {
   "cell_type": "markdown",
   "id": "fecf145c-32a5-4253-b17e-aaca5ab3125d",
   "metadata": {},
   "source": [
    "🧷 **Exercise** Create tensor and shuffle it randomly also assign random seed to it for reproducability. "
   ]
  },
  {
   "cell_type": "code",
   "execution_count": 122,
   "id": "b0638df8-e332-47cb-9de5-fd43e5111f1a",
   "metadata": {},
   "outputs": [
    {
     "data": {
      "text/plain": [
       "<tf.Tensor: shape=(3, 2), dtype=int32, numpy=\n",
       "array([[10,  7],\n",
       "       [ 3,  4],\n",
       "       [ 2,  5]])>"
      ]
     },
     "execution_count": 122,
     "metadata": {},
     "output_type": "execute_result"
    }
   ],
   "source": [
    "tensor = tf.constant([[10,7],\n",
    "                      [3,4],\n",
    "                      [2,5]])\n",
    "tensor"
   ]
  },
  {
   "cell_type": "code",
   "execution_count": 113,
   "id": "49e86c1c-b31a-4867-94f5-dd8ccfdd9214",
   "metadata": {},
   "outputs": [
    {
     "data": {
      "text/plain": [
       "2"
      ]
     },
     "execution_count": 113,
     "metadata": {},
     "output_type": "execute_result"
    }
   ],
   "source": [
    "tensor.ndim"
   ]
  },
  {
   "cell_type": "code",
   "execution_count": 115,
   "id": "623b583b-d3e2-467a-920b-19fe1ff52566",
   "metadata": {},
   "outputs": [
    {
     "data": {
      "text/plain": [
       "<tf.Tensor: shape=(3, 2), dtype=int32, numpy=\n",
       "array([[ 2,  5],\n",
       "       [10,  7],\n",
       "       [ 3,  4]])>"
      ]
     },
     "execution_count": 115,
     "metadata": {},
     "output_type": "execute_result"
    }
   ],
   "source": [
    "shuffle_tensor = tf.random.shuffle(tensor,seed=42)\n",
    "shuffle_tensor"
   ]
  },
  {
   "cell_type": "markdown",
   "id": "acce7a21-1489-45bf-b09b-10da51393f95",
   "metadata": {},
   "source": [
    "# 7. Other ways to make tensors\n",
    "- `tf.ones()` and `tf.zeros()`"
   ]
  },
  {
   "cell_type": "code",
   "execution_count": 133,
   "id": "9843feb7-66ba-41fd-8440-9d20c428c9c6",
   "metadata": {},
   "outputs": [
    {
     "data": {
      "text/plain": [
       "<tf.Tensor: shape=(5, 5), dtype=float32, numpy=\n",
       "array([[1., 1., 1., 1., 1.],\n",
       "       [1., 1., 1., 1., 1.],\n",
       "       [1., 1., 1., 1., 1.],\n",
       "       [1., 1., 1., 1., 1.],\n",
       "       [1., 1., 1., 1., 1.]], dtype=float32)>"
      ]
     },
     "execution_count": 133,
     "metadata": {},
     "output_type": "execute_result"
    }
   ],
   "source": [
    "# Create tensor with all ones\n",
    "one = tf.ones([5,5]) # 5 rows and 5 columns\n",
    "one"
   ]
  },
  {
   "cell_type": "code",
   "execution_count": 143,
   "id": "c0468277-fc09-405d-b598-efed4c0335ff",
   "metadata": {},
   "outputs": [
    {
     "data": {
      "text/plain": [
       "<tf.Tensor: shape=(3, 3), dtype=float32, numpy=\n",
       "array([[1., 1., 1.],\n",
       "       [1., 1., 1.],\n",
       "       [1., 1., 1.]], dtype=float32)>"
      ]
     },
     "execution_count": 143,
     "metadata": {},
     "output_type": "execute_result"
    }
   ],
   "source": [
    "# another way to create the same thing\n",
    "one = tf.ones(shape=(3,3)) # 3 rows and 3 columns\n",
    "one"
   ]
  },
  {
   "cell_type": "code",
   "execution_count": 135,
   "id": "3051a4a7-e7fc-4465-a121-016a801fa8d2",
   "metadata": {},
   "outputs": [
    {
     "data": {
      "text/plain": [
       "<tf.Tensor: shape=(5, 5), dtype=float32, numpy=\n",
       "array([[0., 0., 0., 0., 0.],\n",
       "       [0., 0., 0., 0., 0.],\n",
       "       [0., 0., 0., 0., 0.],\n",
       "       [0., 0., 0., 0., 0.],\n",
       "       [0., 0., 0., 0., 0.]], dtype=float32)>"
      ]
     },
     "execution_count": 135,
     "metadata": {},
     "output_type": "execute_result"
    }
   ],
   "source": [
    "# Creating tensor with all zeros\n",
    "zero = tf.zeros([5,5])\n",
    "zero"
   ]
  },
  {
   "cell_type": "code",
   "execution_count": 149,
   "id": "36ed9da4-bdaf-41a3-9a2f-86eccffb40f7",
   "metadata": {},
   "outputs": [
    {
     "data": {
      "text/plain": [
       "<tf.Tensor: shape=(5, 5), dtype=float32, numpy=\n",
       "array([[0., 0., 0., 0., 0.],\n",
       "       [0., 0., 0., 0., 0.],\n",
       "       [0., 0., 0., 0., 0.],\n",
       "       [0., 0., 0., 0., 0.],\n",
       "       [0., 0., 0., 0., 0.]], dtype=float32)>"
      ]
     },
     "execution_count": 149,
     "metadata": {},
     "output_type": "execute_result"
    }
   ],
   "source": [
    "# same tensor with different parameter\n",
    "zero = tf.zeros(shape=(5,5))\n",
    "zero"
   ]
  },
  {
   "cell_type": "markdown",
   "id": "7cf78d47-7496-4b35-a3e8-ba3a856a81a4",
   "metadata": {},
   "source": [
    "# 8. Turn Numpy array into Tensors \n",
    "- `tf.constant` and `tf.convert_to_tensor`\n",
    "- The main difference between Numpy arrays are TensorFlow tensors is that tensors can be run on a GPU (much faster for numerical computing)."
   ]
  },
  {
   "cell_type": "code",
   "execution_count": 166,
   "id": "7bed7441-5ade-4d02-9522-c7be32ff9e7e",
   "metadata": {},
   "outputs": [
    {
     "data": {
      "text/plain": [
       "array([ 1,  2,  3,  4,  5,  6,  7,  8,  9, 10, 11, 12, 13, 14, 15, 16, 17,\n",
       "       18, 19, 20, 21, 22, 23, 24])"
      ]
     },
     "execution_count": 166,
     "metadata": {},
     "output_type": "execute_result"
    }
   ],
   "source": [
    "# You can also turn NumPy array into tensors \n",
    "import numpy as np \n",
    "numpy_A = np.arange(1,25,dtype=int) # creating numpy array from 1 to 25\n",
    "numpy_A"
   ]
  },
  {
   "cell_type": "code",
   "execution_count": 172,
   "id": "d4652629-78f3-4bcb-b2e2-3fead3f4d004",
   "metadata": {},
   "outputs": [
    {
     "data": {
      "text/plain": [
       "<tf.Tensor: shape=(24,), dtype=int32, numpy=\n",
       "array([ 1,  2,  3,  4,  5,  6,  7,  8,  9, 10, 11, 12, 13, 14, 15, 16, 17,\n",
       "       18, 19, 20, 21, 22, 23, 24])>"
      ]
     },
     "execution_count": 172,
     "metadata": {},
     "output_type": "execute_result"
    }
   ],
   "source": [
    "# First Method \n",
    "A = tf.constant(numpy_A)\n",
    "A"
   ]
  },
  {
   "cell_type": "code",
   "execution_count": 174,
   "id": "5cfec526-3f2b-4875-933e-914695b72522",
   "metadata": {},
   "outputs": [
    {
     "data": {
      "text/plain": [
       "<tf.Tensor: shape=(2, 3, 4), dtype=int32, numpy=\n",
       "array([[[ 1,  2,  3,  4],\n",
       "        [ 5,  6,  7,  8],\n",
       "        [ 9, 10, 11, 12]],\n",
       "\n",
       "       [[13, 14, 15, 16],\n",
       "        [17, 18, 19, 20],\n",
       "        [21, 22, 23, 24]]])>"
      ]
     },
     "execution_count": 174,
     "metadata": {},
     "output_type": "execute_result"
    }
   ],
   "source": [
    "# now i want to change the shape of it \n",
    "A = tf.constant(numpy_A,shape=(2,3,4))\n",
    "A"
   ]
  },
  {
   "cell_type": "code",
   "execution_count": 188,
   "id": "d62f6608-6164-4a75-82e6-278619645e75",
   "metadata": {},
   "outputs": [
    {
     "data": {
      "text/plain": [
       "3"
      ]
     },
     "execution_count": 188,
     "metadata": {},
     "output_type": "execute_result"
    }
   ],
   "source": [
    "A.ndim"
   ]
  },
  {
   "cell_type": "code",
   "execution_count": 179,
   "id": "291bc9e3-721f-4b43-aa9b-378f233e45ad",
   "metadata": {},
   "outputs": [
    {
     "data": {
      "text/plain": [
       "<tf.Tensor: shape=(24,), dtype=int32, numpy=\n",
       "array([ 1,  2,  3,  4,  5,  6,  7,  8,  9, 10, 11, 12, 13, 14, 15, 16, 17,\n",
       "       18, 19, 20, 21, 22, 23, 24])>"
      ]
     },
     "execution_count": 179,
     "metadata": {},
     "output_type": "execute_result"
    }
   ],
   "source": [
    "# Second Method \n",
    "B = tf.convert_to_tensor(numpy_A)\n",
    "B"
   ]
  },
  {
   "cell_type": "code",
   "execution_count": 186,
   "id": "4103bbca-de92-47b6-83fc-0dc94c6db9c9",
   "metadata": {},
   "outputs": [
    {
     "data": {
      "text/plain": [
       "1"
      ]
     },
     "execution_count": 186,
     "metadata": {},
     "output_type": "execute_result"
    }
   ],
   "source": [
    "B.ndim"
   ]
  },
  {
   "cell_type": "markdown",
   "id": "6ba4f98d-cb43-477f-8ced-665b887dc043",
   "metadata": {},
   "source": [
    "# 9. Getting Information from our tensors\n",
    "-  When dealing with tensors you probably want to be aware of the following attributes; \n",
    "\n",
    "- Tensor Attributes\n",
    "    * Shape\n",
    "    * Rank\n",
    "    * Axis and dimension\n",
    "    * Size\n",
    "\n",
    "<div>\n",
    "    <img src=\"../assets/12_tensor_attributes.png\">\n",
    "</div>"
   ]
  },
  {
   "cell_type": "code",
   "execution_count": 239,
   "id": "b79713ea-e340-49a7-a806-d8ec8e709c21",
   "metadata": {},
   "outputs": [
    {
     "data": {
      "text/plain": [
       "array([[[[ 0,  1,  2],\n",
       "         [ 3,  4,  5],\n",
       "         [ 6,  7,  8]],\n",
       "\n",
       "        [[ 9, 10, 11],\n",
       "         [12, 13, 14],\n",
       "         [15, 16, 17]],\n",
       "\n",
       "        [[18, 19, 20],\n",
       "         [21, 22, 23],\n",
       "         [24, 25, 26]]],\n",
       "\n",
       "\n",
       "       [[[27, 28, 29],\n",
       "         [30, 31, 32],\n",
       "         [33, 34, 35]],\n",
       "\n",
       "        [[36, 37, 38],\n",
       "         [39, 40, 41],\n",
       "         [42, 43, 44]],\n",
       "\n",
       "        [[45, 46, 47],\n",
       "         [48, 49, 50],\n",
       "         [51, 52, 53]]],\n",
       "\n",
       "\n",
       "       [[[54, 55, 56],\n",
       "         [57, 58, 59],\n",
       "         [60, 61, 62]],\n",
       "\n",
       "        [[63, 64, 65],\n",
       "         [66, 67, 68],\n",
       "         [69, 70, 71]],\n",
       "\n",
       "        [[72, 73, 74],\n",
       "         [75, 76, 77],\n",
       "         [78, 79, 80]]]])"
      ]
     },
     "execution_count": 239,
     "metadata": {},
     "output_type": "execute_result"
    }
   ],
   "source": [
    "# create a rank 4 tensor(4 dimension) \n",
    "rank_4_tensor = np.arange(81).reshape(3, 3, 3, 3)\n",
    "rank_4_tensor"
   ]
  },
  {
   "cell_type": "code",
   "execution_count": 241,
   "id": "e8163229-a171-4a5e-bb0b-d26e128598b0",
   "metadata": {},
   "outputs": [
    {
     "data": {
      "text/plain": [
       "array([[[ 0,  1,  2],\n",
       "        [ 3,  4,  5],\n",
       "        [ 6,  7,  8]],\n",
       "\n",
       "       [[ 9, 10, 11],\n",
       "        [12, 13, 14],\n",
       "        [15, 16, 17]],\n",
       "\n",
       "       [[18, 19, 20],\n",
       "        [21, 22, 23],\n",
       "        [24, 25, 26]]])"
      ]
     },
     "execution_count": 241,
     "metadata": {},
     "output_type": "execute_result"
    }
   ],
   "source": [
    "rank_4_tensor[0]"
   ]
  },
  {
   "cell_type": "code",
   "execution_count": 243,
   "id": "f8ed379c-639d-44bb-9155-b068f34f7608",
   "metadata": {},
   "outputs": [
    {
     "data": {
      "text/plain": [
       "((3, 3, 3, 3), 4, <tf.Tensor: shape=(), dtype=int32, numpy=81>)"
      ]
     },
     "execution_count": 243,
     "metadata": {},
     "output_type": "execute_result"
    }
   ],
   "source": [
    "rank_4_tensor.shape, rank_4_tensor.ndim, tf.size(rank_4_tensor)"
   ]
  },
  {
   "cell_type": "code",
   "execution_count": 247,
   "id": "8f57ac22-00ce-4585-bc28-9e53df691bbb",
   "metadata": {},
   "outputs": [
    {
     "data": {
      "text/plain": [
       "81"
      ]
     },
     "execution_count": 247,
     "metadata": {},
     "output_type": "execute_result"
    }
   ],
   "source": [
    "3*3*3*3"
   ]
  },
  {
   "cell_type": "code",
   "execution_count": 249,
   "id": "f8c05928-d3b5-45a6-9258-975fb969dafd",
   "metadata": {},
   "outputs": [
    {
     "name": "stdout",
     "output_type": "stream",
     "text": [
      "Datatype of every element: int32\n",
      "Number of dimension: 4\n",
      "Shape of tensor: (3, 3, 3, 3)\n",
      "Elements along with 0 axis: 3\n",
      "Elements along the last axis: 3\n",
      "Total number of elements in our tensor: tf.Tensor(81, shape=(), dtype=int32)\n",
      "Total number of elements in our tensor: 81\n"
     ]
    }
   ],
   "source": [
    "# Get various aAttribute of our tensors \n",
    "print(\"Datatype of every element:\",rank_4_tensor.dtype)\n",
    "print(\"Number of dimension:\",rank_4_tensor.ndim)\n",
    "print(\"Shape of tensor:\",rank_4_tensor.shape)\n",
    "print(\"Elements along with 0 axis:\",rank_4_tensor.shape[0])\n",
    "print(\"Elements along the last axis:\",rank_4_tensor.shape[-1])\n",
    "print(\"Total number of elements in our tensor:\",tf.size(rank_4_tensor))\n",
    "print(\"Total number of elements in our tensor:\",tf.size(rank_4_tensor).numpy())"
   ]
  },
  {
   "cell_type": "markdown",
   "id": "c2a0eaf5-fc83-4048-b6f5-559fc18b7c7d",
   "metadata": {},
   "source": [
    "# 10. Indexing Tensors \n",
    "- Tensors can be indexed just like the python list\n"
   ]
  },
  {
   "cell_type": "code",
   "execution_count": 252,
   "id": "f06e9b0b-4eda-46f0-8cf4-72a66b432347",
   "metadata": {},
   "outputs": [
    {
     "data": {
      "text/plain": [
       "array([[[[ 0,  1],\n",
       "         [ 3,  4]],\n",
       "\n",
       "        [[ 9, 10],\n",
       "         [12, 13]]],\n",
       "\n",
       "\n",
       "       [[[27, 28],\n",
       "         [30, 31]],\n",
       "\n",
       "        [[36, 37],\n",
       "         [39, 40]]]])"
      ]
     },
     "execution_count": 252,
     "metadata": {},
     "output_type": "execute_result"
    }
   ],
   "source": [
    "# Get the first 2 elements of each dimension \n",
    "rank_4_tensor[:2,:2,:2,:2]"
   ]
  },
  {
   "cell_type": "code",
   "execution_count": 264,
   "id": "7bdcd9d3-c860-45f8-9805-fdba6d3f60fd",
   "metadata": {},
   "outputs": [
    {
     "data": {
      "text/plain": [
       "array([[[[0, 1, 2]]]])"
      ]
     },
     "execution_count": 264,
     "metadata": {},
     "output_type": "execute_result"
    }
   ],
   "source": [
    "# Get the first element from each dimension from each index except for the final one \n",
    "rank_4_tensor[:1,:1,:1]"
   ]
  },
  {
   "cell_type": "code",
   "execution_count": 320,
   "id": "bacc09bb-ae7b-4e71-95dc-971e778496f9",
   "metadata": {},
   "outputs": [
    {
     "data": {
      "text/plain": [
       "array([ 0,  9, 18])"
      ]
     },
     "execution_count": 320,
     "metadata": {},
     "output_type": "execute_result"
    }
   ],
   "source": [
    "# Get the first element from each dimension from each index except for the final one \n",
    "rank_4_tensor[0,:,0,0]"
   ]
  },
  {
   "cell_type": "code",
   "execution_count": 256,
   "id": "a8ed8857-3334-4f72-8485-0fd510ac479c",
   "metadata": {},
   "outputs": [
    {
     "data": {
      "text/plain": [
       "array([[[[ 0,  1,  2],\n",
       "         [ 3,  4,  5],\n",
       "         [ 6,  7,  8]],\n",
       "\n",
       "        [[ 9, 10, 11],\n",
       "         [12, 13, 14],\n",
       "         [15, 16, 17]],\n",
       "\n",
       "        [[18, 19, 20],\n",
       "         [21, 22, 23],\n",
       "         [24, 25, 26]]],\n",
       "\n",
       "\n",
       "       [[[27, 28, 29],\n",
       "         [30, 31, 32],\n",
       "         [33, 34, 35]],\n",
       "\n",
       "        [[36, 37, 38],\n",
       "         [39, 40, 41],\n",
       "         [42, 43, 44]],\n",
       "\n",
       "        [[45, 46, 47],\n",
       "         [48, 49, 50],\n",
       "         [51, 52, 53]]],\n",
       "\n",
       "\n",
       "       [[[54, 55, 56],\n",
       "         [57, 58, 59],\n",
       "         [60, 61, 62]],\n",
       "\n",
       "        [[63, 64, 65],\n",
       "         [66, 67, 68],\n",
       "         [69, 70, 71]],\n",
       "\n",
       "        [[72, 73, 74],\n",
       "         [75, 76, 77],\n",
       "         [78, 79, 80]]]])"
      ]
     },
     "execution_count": 256,
     "metadata": {},
     "output_type": "execute_result"
    }
   ],
   "source": [
    "# rank_4_tensor[0,0,0,:] \n",
    "# rank_4_tensor[:,0,:3,0]"
   ]
  },
  {
   "cell_type": "code",
   "execution_count": null,
   "id": "da6716d4-037b-441e-8744-ab4173812908",
   "metadata": {},
   "outputs": [],
   "source": []
  }
 ],
 "metadata": {
  "kernelspec": {
   "display_name": "Python 3 (ipykernel)",
   "language": "python",
   "name": "python3"
  },
  "language_info": {
   "codemirror_mode": {
    "name": "ipython",
    "version": 3
   },
   "file_extension": ".py",
   "mimetype": "text/x-python",
   "name": "python",
   "nbconvert_exporter": "python",
   "pygments_lexer": "ipython3",
   "version": "3.12.3"
  },
  "widgets": {
   "application/vnd.jupyter.widget-state+json": {
    "state": {},
    "version_major": 2,
    "version_minor": 0
   }
  }
 },
 "nbformat": 4,
 "nbformat_minor": 5
}
