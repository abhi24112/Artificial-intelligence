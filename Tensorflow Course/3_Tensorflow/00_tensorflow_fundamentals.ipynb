{
 "cells": [
  {
   "attachments": {},
   "cell_type": "markdown",
   "id": "d4e1538a-6351-47e9-8ff7-2339a1019dec",
   "metadata": {},
   "source": [
    "<div>\n",
    "    <img src=\"../assets/1_header.png\">\n",
    "</div>"
   ]
  },
  {
   "cell_type": "markdown",
   "id": "e73a781a-a6c4-4602-81fb-4770b6fa8372",
   "metadata": {},
   "source": [
    "# 1. What is Tensorflow ? \n",
    "<div>\n",
    "    <img src=\"../assets/9_what_is_tensorflow.png\">\n",
    "</div>"
   ]
  },
  {
   "cell_type": "markdown",
   "id": "e19defbe-5899-4059-8f90-061d53abca62",
   "metadata": {},
   "source": [
    "# 2. What is Tensor ?? \n",
    "- In TensorFlow, a tensor is a multi-dimensional array that represents the fundamental data structure used for computations.\n",
    "Here's a breakdown of its key aspects:\n",
    "\n",
    "1. Multi-dimensional array:\n",
    "Think of a tensor as a generalization of vectors and matrices to higher dimensions. A scalar is a 0-dimensional tensor, a vector is a 1-dimensional tensor, a matrix is a 2-dimensional tensor, and so on.\n",
    "\n",
    "3. Data type:\n",
    "Tensors have a uniform data type (e.g., float32, int64), which specifies the type of values stored within the tensor.\n",
    "\n",
    "\n",
    "5. Immutable:\n",
    "Tensors are immutable, meaning that their contents cannot be modified once created. Instead, operations on tensors create new tensors.\n",
    "\n",
    "\n",
    "7. Flow of data:\n",
    "The name \"TensorFlow\" reflects the flow of tensors through a computational graph. Tensors are passed between nodes in the graph, representing the input and output of operations.\n",
    "\n",
    "\n",
    "9. Analogy: You can think of tensors as containers that hold data, similar to NumPy arrays. However, tensors offer additional functionalities for efficient computation on GPUs and distributed systems, making them suitable for large-scale machine learning tasks.\n",
    "\n",
    "<div>\n",
    "    <img src=\"../assets/10_tensor.png\">\n",
    "</div>"
   ]
  },
  {
   "cell_type": "markdown",
   "id": "2a1eab2f-1837-4e82-86cd-47bae6d622c5",
   "metadata": {},
   "source": [
    "# 3. Introduction of Tensorflow"
   ]
  },
  {
   "cell_type": "code",
   "execution_count": 2,
   "id": "1aff05b5-91ed-4e31-ae02-6901ab43face",
   "metadata": {},
   "outputs": [
    {
     "name": "stdout",
     "output_type": "stream",
     "text": [
      "2.17.0\n"
     ]
    }
   ],
   "source": [
    "# import TensorFlow \n",
    "import tensorflow as tf \n",
    "import numpy as np \n",
    "print(tf.__version__)"
   ]
  },
  {
   "cell_type": "code",
   "execution_count": 7,
   "id": "4d2c9c92-6a47-4089-83a2-2c7c0383a1e4",
   "metadata": {},
   "outputs": [
    {
     "data": {
      "text/plain": [
       "<tf.Tensor: shape=(), dtype=int32, numpy=7>"
      ]
     },
     "execution_count": 7,
     "metadata": {},
     "output_type": "execute_result"
    }
   ],
   "source": [
    "# create tensors with tf.contant() \n",
    "scalar = tf.constant(7)\n",
    "scalar"
   ]
  },
  {
   "cell_type": "code",
   "execution_count": 8,
   "id": "3b35ef0c-2c29-4e79-8111-8a9134acada3",
   "metadata": {},
   "outputs": [
    {
     "data": {
      "text/plain": [
       "0"
      ]
     },
     "execution_count": 8,
     "metadata": {},
     "output_type": "execute_result"
    }
   ],
   "source": [
    "# check the number of dimension of a tensor (ndim stands for  no. of dimension)\n",
    "scalar.ndim"
   ]
  },
  {
   "cell_type": "code",
   "execution_count": 9,
   "id": "5991cba7-d2f4-4fdd-9891-21115dd66261",
   "metadata": {},
   "outputs": [
    {
     "data": {
      "text/plain": [
       "<tf.Tensor: shape=(2,), dtype=int32, numpy=array([10, 10])>"
      ]
     },
     "execution_count": 9,
     "metadata": {},
     "output_type": "execute_result"
    }
   ],
   "source": [
    "# create a vector\n",
    "vector= tf.constant([10,10])\n",
    "vector"
   ]
  },
  {
   "cell_type": "code",
   "execution_count": 10,
   "id": "b4ecbd3d-f972-4953-8bf9-9a2101211c7d",
   "metadata": {},
   "outputs": [
    {
     "data": {
      "text/plain": [
       "1"
      ]
     },
     "execution_count": 10,
     "metadata": {},
     "output_type": "execute_result"
    }
   ],
   "source": [
    "# check the number of dimension of a vector\n",
    "vector.ndim"
   ]
  },
  {
   "cell_type": "code",
   "execution_count": 11,
   "id": "77c73d2a-0741-4d31-ad65-98cdeb5e3347",
   "metadata": {},
   "outputs": [
    {
     "data": {
      "text/plain": [
       "<tf.Tensor: shape=(2, 2), dtype=int32, numpy=\n",
       "array([[10,  7],\n",
       "       [ 7, 10]])>"
      ]
     },
     "execution_count": 11,
     "metadata": {},
     "output_type": "execute_result"
    }
   ],
   "source": [
    "# create a matrix (has more than 1 dimension)\n",
    "matrix = tf.constant([[10,7],\n",
    "                     [7,10]])\n",
    "matrix"
   ]
  },
  {
   "cell_type": "code",
   "execution_count": 12,
   "id": "b0361abc-7077-4cdc-ac74-30f636a7320c",
   "metadata": {},
   "outputs": [
    {
     "data": {
      "text/plain": [
       "2"
      ]
     },
     "execution_count": 12,
     "metadata": {},
     "output_type": "execute_result"
    }
   ],
   "source": [
    "matrix.ndim"
   ]
  },
  {
   "cell_type": "code",
   "execution_count": 13,
   "id": "9d91db0c-d600-4f21-a141-57c7cdb9efbb",
   "metadata": {},
   "outputs": [
    {
     "data": {
      "text/plain": [
       "<tf.Tensor: shape=(3, 2), dtype=float16, numpy=\n",
       "array([[10.,  7.],\n",
       "       [ 3.,  2.],\n",
       "       [ 8.,  9.]], dtype=float16)>"
      ]
     },
     "execution_count": 13,
     "metadata": {},
     "output_type": "execute_result"
    }
   ],
   "source": [
    "# create another matrix \n",
    "another_matrix = tf.constant([[10.,7.],\n",
    "                             [3.,2.],\n",
    "                             [8.,9.]], dtype=tf.float16) \n",
    "#specify the data type  with dtype parameters.\n",
    "another_matrix"
   ]
  },
  {
   "cell_type": "code",
   "execution_count": 14,
   "id": "22194f18-997e-433d-b0ce-26fea610b776",
   "metadata": {},
   "outputs": [
    {
     "data": {
      "text/plain": [
       "2"
      ]
     },
     "execution_count": 14,
     "metadata": {},
     "output_type": "execute_result"
    }
   ],
   "source": [
    "# What's the number of dimensions of another_matrix \n",
    "another_matrix.ndim"
   ]
  },
  {
   "cell_type": "code",
   "execution_count": 15,
   "id": "1852ddc2-1ac7-4fdf-be52-fd1ab37ab8a8",
   "metadata": {},
   "outputs": [
    {
     "data": {
      "text/plain": [
       "<tf.Tensor: shape=(2, 2, 3), dtype=int32, numpy=\n",
       "array([[[ 1,  2,  3],\n",
       "        [ 4,  5,  6]],\n",
       "\n",
       "       [[ 7,  8,  9],\n",
       "        [10, 11, 12]]])>"
      ]
     },
     "execution_count": 15,
     "metadata": {},
     "output_type": "execute_result"
    }
   ],
   "source": [
    "# Let's create a tensor \n",
    "tensor =tf.constant([[[1,2,3],\n",
    "                     [4,5,6]],\n",
    "                     [[7,8,9],\n",
    "                     [10,11,12]]])\n",
    "tensor"
   ]
  },
  {
   "cell_type": "code",
   "execution_count": 16,
   "id": "33ee557b-6d8f-494b-9e81-3b3055d1359f",
   "metadata": {},
   "outputs": [
    {
     "data": {
      "text/plain": [
       "3"
      ]
     },
     "execution_count": 16,
     "metadata": {},
     "output_type": "execute_result"
    }
   ],
   "source": [
    "tensor.ndim"
   ]
  },
  {
   "cell_type": "markdown",
   "id": "c17eb544-2223-4cd2-8e8d-0920b3c96bc6",
   "metadata": {},
   "source": [
    "### What we've create so far:\n",
    "* Scalar: a single number \n",
    "* Vector: a number with direction (e.g. wind speed and direction)\n",
    "* Matrix: a 2-dimensional array of number.\n",
    "* Tensor: is a n-dimensional array of numbers (where n can be any number, a 0-dimensional tensor is a scalar, a1-dimensional)"
   ]
  },
  {
   "cell_type": "markdown",
   "id": "925abc29-df3e-424e-a315-567e09fbd949",
   "metadata": {},
   "source": [
    "# 4. Creating tensors with `tf.tensor`"
   ]
  },
  {
   "cell_type": "code",
   "execution_count": 19,
   "id": "906ddb8f-408c-43f2-b29a-385ea1d4e445",
   "metadata": {},
   "outputs": [
    {
     "data": {
      "text/plain": [
       "(<tf.Variable 'Variable:0' shape=(2,) dtype=int32, numpy=array([10,  7])>,\n",
       " <tf.Tensor: shape=(2,), dtype=int32, numpy=array([10,  7])>)"
      ]
     },
     "execution_count": 19,
     "metadata": {},
     "output_type": "execute_result"
    }
   ],
   "source": [
    "# create the same tensor with tf.variable() as above \n",
    "changeable_tensor = tf.Variable([10,7])\n",
    "unchangeable_tensor = tf.constant([10,7])\n",
    "changeable_tensor,unchangeable_tensor"
   ]
  },
  {
   "cell_type": "code",
   "execution_count": 20,
   "id": "9984732e-98a1-4f67-bf67-41930f99a9b1",
   "metadata": {},
   "outputs": [
    {
     "ename": "TypeError",
     "evalue": "'ResourceVariable' object does not support item assignment",
     "output_type": "error",
     "traceback": [
      "\u001b[1;31m---------------------------------------------------------------------------\u001b[0m",
      "\u001b[1;31mTypeError\u001b[0m                                 Traceback (most recent call last)",
      "Cell \u001b[1;32mIn[20], line 2\u001b[0m\n\u001b[0;32m      1\u001b[0m \u001b[38;5;66;03m# Let's try change one of the elements in our changeable_tensor \u001b[39;00m\n\u001b[1;32m----> 2\u001b[0m \u001b[43mchangeable_tensor\u001b[49m\u001b[43m[\u001b[49m\u001b[38;5;241;43m0\u001b[39;49m\u001b[43m]\u001b[49m \u001b[38;5;241m=\u001b[39m \u001b[38;5;241m7\u001b[39m \n\u001b[0;32m      3\u001b[0m changeable_tensor\n",
      "\u001b[1;31mTypeError\u001b[0m: 'ResourceVariable' object does not support item assignment"
     ]
    }
   ],
   "source": [
    "# Let's try change one of the elements in our changeable_tensor \n",
    "changeable_tensor[0] = 7 \n",
    "changeable_tensor"
   ]
  },
  {
   "cell_type": "code",
   "execution_count": 56,
   "id": "00dd6f0b-27e2-4842-9d27-ddc323de81d5",
   "metadata": {},
   "outputs": [
    {
     "data": {
      "text/plain": [
       "<tf.Variable 'Variable:0' shape=(2,) dtype=int32, numpy=array([7, 7])>"
      ]
     },
     "execution_count": 56,
     "metadata": {},
     "output_type": "execute_result"
    }
   ],
   "source": [
    "# How about we try .assign()\n",
    "changeable_tensor[0].assign(7)\n",
    "changeable_tensor"
   ]
  },
  {
   "cell_type": "code",
   "execution_count": 58,
   "id": "42e9f79b-72bb-4a4b-b7fe-ff97eccae767",
   "metadata": {
    "scrolled": true
   },
   "outputs": [
    {
     "ename": "AttributeError",
     "evalue": "'tensorflow.python.framework.ops.EagerTensor' object has no attribute 'assign'",
     "output_type": "error",
     "traceback": [
      "\u001b[1;31m---------------------------------------------------------------------------\u001b[0m",
      "\u001b[1;31mAttributeError\u001b[0m                            Traceback (most recent call last)",
      "Cell \u001b[1;32mIn[58], line 3\u001b[0m\n\u001b[0;32m      1\u001b[0m \u001b[38;5;66;03m# Let's try change our unchangeable_tensor \u001b[39;00m\n\u001b[0;32m      2\u001b[0m \u001b[38;5;66;03m# It will probabily through an error.\u001b[39;00m\n\u001b[1;32m----> 3\u001b[0m \u001b[43munchangeable_tensor\u001b[49m\u001b[43m[\u001b[49m\u001b[38;5;241;43m0\u001b[39;49m\u001b[43m]\u001b[49m\u001b[38;5;241;43m.\u001b[39;49m\u001b[43massign\u001b[49m(\u001b[38;5;241m7\u001b[39m)\n\u001b[0;32m      4\u001b[0m unchangeable_tensor\n",
      "File \u001b[1;32m~\\anaconda3\\Lib\\site-packages\\tensorflow\\python\\framework\\tensor.py:260\u001b[0m, in \u001b[0;36mTensor.__getattr__\u001b[1;34m(self, name)\u001b[0m\n\u001b[0;32m    252\u001b[0m \u001b[38;5;28;01mif\u001b[39;00m name \u001b[38;5;129;01min\u001b[39;00m {\u001b[38;5;124m\"\u001b[39m\u001b[38;5;124mT\u001b[39m\u001b[38;5;124m\"\u001b[39m, \u001b[38;5;124m\"\u001b[39m\u001b[38;5;124mastype\u001b[39m\u001b[38;5;124m\"\u001b[39m, \u001b[38;5;124m\"\u001b[39m\u001b[38;5;124mravel\u001b[39m\u001b[38;5;124m\"\u001b[39m, \u001b[38;5;124m\"\u001b[39m\u001b[38;5;124mtranspose\u001b[39m\u001b[38;5;124m\"\u001b[39m, \u001b[38;5;124m\"\u001b[39m\u001b[38;5;124mreshape\u001b[39m\u001b[38;5;124m\"\u001b[39m, \u001b[38;5;124m\"\u001b[39m\u001b[38;5;124mclip\u001b[39m\u001b[38;5;124m\"\u001b[39m, \u001b[38;5;124m\"\u001b[39m\u001b[38;5;124msize\u001b[39m\u001b[38;5;124m\"\u001b[39m,\n\u001b[0;32m    253\u001b[0m             \u001b[38;5;124m\"\u001b[39m\u001b[38;5;124mtolist\u001b[39m\u001b[38;5;124m\"\u001b[39m, \u001b[38;5;124m\"\u001b[39m\u001b[38;5;124mdata\u001b[39m\u001b[38;5;124m\"\u001b[39m}:\n\u001b[0;32m    254\u001b[0m   \u001b[38;5;66;03m# TODO(wangpeng): Export the enable_numpy_behavior knob\u001b[39;00m\n\u001b[0;32m    255\u001b[0m   \u001b[38;5;28;01mraise\u001b[39;00m \u001b[38;5;167;01mAttributeError\u001b[39;00m(\n\u001b[0;32m    256\u001b[0m       \u001b[38;5;124mf\u001b[39m\u001b[38;5;124m\"\u001b[39m\u001b[38;5;132;01m{\u001b[39;00m\u001b[38;5;28mtype\u001b[39m(\u001b[38;5;28mself\u001b[39m)\u001b[38;5;241m.\u001b[39m\u001b[38;5;18m__name__\u001b[39m\u001b[38;5;132;01m}\u001b[39;00m\u001b[38;5;124m object has no attribute \u001b[39m\u001b[38;5;124m'\u001b[39m\u001b[38;5;132;01m{\u001b[39;00mname\u001b[38;5;132;01m}\u001b[39;00m\u001b[38;5;124m'\u001b[39m\u001b[38;5;124m. \u001b[39m\u001b[38;5;124m\"\u001b[39m \u001b[38;5;241m+\u001b[39m \u001b[38;5;124m\"\"\"\u001b[39m\n\u001b[0;32m    257\u001b[0m \u001b[38;5;124m    If you are looking for numpy-related methods, please run the following:\u001b[39m\n\u001b[0;32m    258\u001b[0m \u001b[38;5;124m    tf.experimental.numpy.experimental_enable_numpy_behavior()\u001b[39m\n\u001b[0;32m    259\u001b[0m \u001b[38;5;124m  \u001b[39m\u001b[38;5;124m\"\"\"\u001b[39m)\n\u001b[1;32m--> 260\u001b[0m \u001b[38;5;28;43mself\u001b[39;49m\u001b[38;5;241;43m.\u001b[39;49m\u001b[38;5;21;43m__getattribute__\u001b[39;49m\u001b[43m(\u001b[49m\u001b[43mname\u001b[49m\u001b[43m)\u001b[49m\n",
      "\u001b[1;31mAttributeError\u001b[0m: 'tensorflow.python.framework.ops.EagerTensor' object has no attribute 'assign'"
     ]
    }
   ],
   "source": [
    "# Let's try change our unchangeable_tensor \n",
    "# It will probabily through an error.\n",
    "unchangeable_tensor[0].assign(7)\n",
    "unchangeable_tensor"
   ]
  },
  {
   "cell_type": "markdown",
   "id": "8beb9050-9a95-4b86-b863-b54000680c7f",
   "metadata": {},
   "source": [
    "<p style=\"color:red; font-size:26px;\">Note:</p>\n",
    "\n",
    "-  Rarely in practice will you need to decide whether to use `tf.constant` or `tf.Variable` to create tensors, as Tensorflow does this for you however, if in doubt use tf.constant and tf.Variable change it later if needed."
   ]
  },
  {
   "cell_type": "markdown",
   "id": "381b958b-cfe8-4c88-b2d3-b8f24386c325",
   "metadata": {},
   "source": [
    "# 5. Creating random tensor\n",
    "    Random Tensors are tensor of some abitrary size which contain random numbers.\n",
    "\n",
    "<div>\n",
    "    <img src=\"../assets/11_random_tensor.png\">\n",
    "</div>"
   ]
  },
  {
   "cell_type": "code",
   "execution_count": 62,
   "id": "957a54ff-bbd9-4d2d-9cd8-fe444d1959e2",
   "metadata": {},
   "outputs": [
    {
     "name": "stdout",
     "output_type": "stream",
     "text": [
      "Random Tensor (0 to 1) tf.Tensor(\n",
      "[[0.94137645 0.50171494 0.7163639  0.924062  ]\n",
      " [0.7568463  0.68833673 0.9115056  0.11165595]\n",
      " [0.85399127 0.30261016 0.47248626 0.62748504]], shape=(3, 4), dtype=float32) \n",
      "\n",
      "Random Tensor (-2 to 1) tf.Tensor(\n",
      "[[-1.361301   -1.913066   -0.94027066 -1.923625  ]\n",
      " [ 0.35482502 -0.5287225  -0.3919953  -0.91530824]\n",
      " [-0.7626215  -0.89712465 -0.11435986 -1.643062  ]], shape=(3, 4), dtype=float32)\n"
     ]
    }
   ],
   "source": [
    "import tensorflow as tf\n",
    "\n",
    "# Create a random tensor of shape (3, 4) with values between 0 and 1\n",
    "random_tensor_tf = tf.random.uniform(shape=(3,4)) \n",
    "'''Uniform distribution: is sometime also known as a rectangualar \n",
    "distribution  is a distribution that as constant probability'''\n",
    "\n",
    "# Create a random tensor with specific min and max values\n",
    "random_tensor_tf_custom = tf.random.uniform(shape=(3,4),minval=-2.0, maxval=1.0)\n",
    "\n",
    "# printing of tensors \n",
    "print(\"Random Tensor (0 to 1)\",random_tensor_tf,\"\\n\")\n",
    "print(\"Random Tensor (-2 to 1)\",random_tensor_tf_custom)"
   ]
  },
  {
   "cell_type": "code",
   "execution_count": 64,
   "id": "d0d54f3a-3a7d-40b1-a3d5-c979b191f01f",
   "metadata": {},
   "outputs": [
    {
     "name": "stdout",
     "output_type": "stream",
     "text": [
      "tf.Tensor(\n",
      "[[ True  True]\n",
      " [ True  True]\n",
      " [ True  True]], shape=(3, 2), dtype=bool)\n"
     ]
    }
   ],
   "source": [
    "# Create two random (but the same) tensors\n",
    "random_1 = tf.random.Generator.from_seed(42) # set seed for reproducibility \n",
    "random_1 = random_1.normal(shape=(3,2)) \n",
    "'''Normal Distribution is the most common or normal form of distribution\n",
    "of Random Variables, hence the name “normal distribution.” \n",
    "It is also called Gaussian Distribution in Statistics or Probability.'''\n",
    "\n",
    "random_2 = tf.random.Generator.from_seed(42)\n",
    "random_2 = random_2.normal(shape=(3,2))\n",
    "\n",
    "# Are they equal ? \n",
    "print(random_1== random_2)\n",
    "\n",
    "# Yes they are because of the seed number."
   ]
  },
  {
   "cell_type": "code",
   "execution_count": 65,
   "id": "494f72ac-e008-448b-a323-a9a97f2af6e6",
   "metadata": {},
   "outputs": [
    {
     "data": {
      "text/plain": [
       "(<tf.Tensor: shape=(3, 2), dtype=float32, numpy=\n",
       " array([[-0.7565803 , -0.06854702],\n",
       "        [ 0.07595026, -1.2573844 ],\n",
       "        [-0.23193763, -1.8107855 ]], dtype=float32)>,\n",
       " <tf.Tensor: shape=(3, 2), dtype=float32, numpy=\n",
       " array([[-0.7565803 , -0.06854702],\n",
       "        [ 0.07595026, -1.2573844 ],\n",
       "        [-0.23193763, -1.8107855 ]], dtype=float32)>)"
      ]
     },
     "execution_count": 65,
     "metadata": {},
     "output_type": "execute_result"
    }
   ],
   "source": [
    "random_1,random_2"
   ]
  },
  {
   "cell_type": "code",
   "execution_count": 67,
   "id": "ea547fc4-2f91-410c-b966-2aa96c081624",
   "metadata": {},
   "outputs": [
    {
     "name": "stdout",
     "output_type": "stream",
     "text": [
      "tf.Tensor(\n",
      "[[False False]\n",
      " [False False]\n",
      " [False False]], shape=(3, 2), dtype=bool)\n"
     ]
    }
   ],
   "source": [
    "# Create two random (but the same) tensors\n",
    "random_1 = tf.random.Generator.from_seed(42) # set seed for reproducibility \n",
    "random_1 = random_1.normal(shape=(3,2)) \n",
    "'''Normal Distribution is the most common or normal form of distribution\n",
    "of Random Variables, hence the name “normal distribution.” \n",
    "It is also called Gaussian Distribution in Statistics or Probability.'''\n",
    "\n",
    "random_2 = tf.random.Generator.from_seed(43)\n",
    "random_2 = random_2.normal(shape=(3,2))\n",
    "\n",
    "# Are they equal ? \n",
    "print(random_1== random_2)\n",
    "\n",
    "# No, they aren't equal"
   ]
  },
  {
   "cell_type": "code",
   "execution_count": 69,
   "id": "2159bcbe-fafd-464d-bb64-32de5bf38fb3",
   "metadata": {},
   "outputs": [
    {
     "data": {
      "text/plain": [
       "(<tf.Tensor: shape=(3, 2), dtype=float32, numpy=\n",
       " array([[-0.7565803 , -0.06854702],\n",
       "        [ 0.07595026, -1.2573844 ],\n",
       "        [-0.23193763, -1.8107855 ]], dtype=float32)>,\n",
       " <tf.Tensor: shape=(3, 2), dtype=float32, numpy=\n",
       " array([[-0.23193763, -1.8107855 ],\n",
       "        [ 0.09988727, -0.50998646],\n",
       "        [-0.7535805 , -0.57166284]], dtype=float32)>)"
      ]
     },
     "execution_count": 69,
     "metadata": {},
     "output_type": "execute_result"
    }
   ],
   "source": [
    "random_1,random_2"
   ]
  },
  {
   "cell_type": "markdown",
   "id": "c5905d6d-bfa9-4ff7-b0f0-8af4d5d3f8e7",
   "metadata": {},
   "source": [
    "# 6. Shuffle the order of elements in a tensor"
   ]
  },
  {
   "cell_type": "markdown",
   "id": "32d10b17-0c5a-426a-babb-95ff8dfc6176",
   "metadata": {},
   "source": [
    "-  Syntax\n",
    "  \n",
    "`tf.random.shuffle(value, seed=None, name=None)`\n",
    "\n",
    "1. value: A Tensor to be shuffled.\n",
    "2. seed: A Python integer. Used to create a random seed for the distribution. See tf.random.set_seed for behavior.\n",
    "4. name: A name for the operation (optional)."
   ]
  },
  {
   "cell_type": "code",
   "execution_count": 74,
   "id": "d0964d26-0dc2-46e9-afd2-6ff928b27ea7",
   "metadata": {},
   "outputs": [
    {
     "data": {
      "text/plain": [
       "2"
      ]
     },
     "execution_count": 74,
     "metadata": {},
     "output_type": "execute_result"
    }
   ],
   "source": [
    "# shuffle a tensor (valuable for when you want to shuffle your data so the inherent order doesn't effect learning)\n",
    "not_shuffle =  tf.constant([[10,7],[3,4],[2,5]])\n",
    "not_shuffle.ndim"
   ]
  },
  {
   "cell_type": "code",
   "execution_count": 75,
   "id": "076c9e84-ccfe-4c81-aba6-e171547ba20a",
   "metadata": {},
   "outputs": [
    {
     "data": {
      "text/plain": [
       "<tf.Tensor: shape=(3, 2), dtype=int32, numpy=\n",
       "array([[10,  7],\n",
       "       [ 3,  4],\n",
       "       [ 2,  5]])>"
      ]
     },
     "execution_count": 75,
     "metadata": {},
     "output_type": "execute_result"
    }
   ],
   "source": [
    "not_shuffle"
   ]
  },
  {
   "cell_type": "code",
   "execution_count": 78,
   "id": "c130ba69-9057-43ea-a1f2-e9993bf18790",
   "metadata": {},
   "outputs": [
    {
     "data": {
      "text/plain": [
       "<tf.Tensor: shape=(3, 2), dtype=int32, numpy=\n",
       "array([[10,  7],\n",
       "       [ 2,  5],\n",
       "       [ 3,  4]])>"
      ]
     },
     "execution_count": 78,
     "metadata": {},
     "output_type": "execute_result"
    }
   ],
   "source": [
    "# shuffle our not_shuffle tensor \n",
    "tf.random.shuffle(not_shuffle)"
   ]
  },
  {
   "cell_type": "code",
   "execution_count": 80,
   "id": "8895ad9d-ff3b-4793-bacc-e4a3b3f9310a",
   "metadata": {},
   "outputs": [
    {
     "data": {
      "text/plain": [
       "<tf.Tensor: shape=(3, 2), dtype=int32, numpy=\n",
       "array([[ 2,  5],\n",
       "       [ 3,  4],\n",
       "       [10,  7]])>"
      ]
     },
     "execution_count": 80,
     "metadata": {},
     "output_type": "execute_result"
    }
   ],
   "source": [
    "# still getting different tensor \n",
    "tf.random.shuffle(not_shuffle,seed=42)"
   ]
  },
  {
   "cell_type": "markdown",
   "id": "32cc7d48-4b2b-43d9-bffa-e3341f244fdf",
   "metadata": {},
   "source": [
    "-  It lookslike if we want our shuffled tensors to be the same order , we've got to use the global level random seed as well as the operation level reandom seed: \n",
    "\n",
    "    - **Rule:** If both the global and the operation seed are set: Both seeds are used in conjunction to determine the random sequence."
   ]
  },
  {
   "cell_type": "code",
   "execution_count": 83,
   "id": "4b932112-340a-4ef6-80d1-e26f6e386ab9",
   "metadata": {},
   "outputs": [
    {
     "data": {
      "text/plain": [
       "<tf.Tensor: shape=(3, 2), dtype=int32, numpy=\n",
       "array([[10,  7],\n",
       "       [ 3,  4],\n",
       "       [ 2,  5]])>"
      ]
     },
     "execution_count": 83,
     "metadata": {},
     "output_type": "execute_result"
    }
   ],
   "source": [
    "tf.random.set_seed(42) # global level random seed \n",
    "tf.random.shuffle(not_shuffle,seed=42) # operational level random seed "
   ]
  },
  {
   "cell_type": "markdown",
   "id": "fecf145c-32a5-4253-b17e-aaca5ab3125d",
   "metadata": {},
   "source": [
    "🧷 **Exercise** Create tensor and shuffle it randomly also assign random seed to it for reproducability. "
   ]
  },
  {
   "cell_type": "code",
   "execution_count": 86,
   "id": "b0638df8-e332-47cb-9de5-fd43e5111f1a",
   "metadata": {},
   "outputs": [
    {
     "data": {
      "text/plain": [
       "<tf.Tensor: shape=(3, 2), dtype=int32, numpy=\n",
       "array([[10,  7],\n",
       "       [ 3,  4],\n",
       "       [ 2,  5]])>"
      ]
     },
     "execution_count": 86,
     "metadata": {},
     "output_type": "execute_result"
    }
   ],
   "source": [
    "tensor = tf.constant([[10,7],\n",
    "                      [3,4],\n",
    "                      [2,5]])\n",
    "tensor"
   ]
  },
  {
   "cell_type": "code",
   "execution_count": 88,
   "id": "49e86c1c-b31a-4867-94f5-dd8ccfdd9214",
   "metadata": {},
   "outputs": [
    {
     "data": {
      "text/plain": [
       "2"
      ]
     },
     "execution_count": 88,
     "metadata": {},
     "output_type": "execute_result"
    }
   ],
   "source": [
    "tensor.ndim"
   ]
  },
  {
   "cell_type": "code",
   "execution_count": 90,
   "id": "623b583b-d3e2-467a-920b-19fe1ff52566",
   "metadata": {},
   "outputs": [
    {
     "data": {
      "text/plain": [
       "<tf.Tensor: shape=(3, 2), dtype=int32, numpy=\n",
       "array([[ 2,  5],\n",
       "       [10,  7],\n",
       "       [ 3,  4]])>"
      ]
     },
     "execution_count": 90,
     "metadata": {},
     "output_type": "execute_result"
    }
   ],
   "source": [
    "shuffle_tensor = tf.random.shuffle(tensor,seed=42)\n",
    "shuffle_tensor"
   ]
  },
  {
   "cell_type": "markdown",
   "id": "acce7a21-1489-45bf-b09b-10da51393f95",
   "metadata": {},
   "source": [
    "# 7. Other ways to make tensors\n",
    "- `tf.ones()` and `tf.zeros()`"
   ]
  },
  {
   "cell_type": "code",
   "execution_count": 93,
   "id": "9843feb7-66ba-41fd-8440-9d20c428c9c6",
   "metadata": {},
   "outputs": [
    {
     "data": {
      "text/plain": [
       "<tf.Tensor: shape=(5, 5), dtype=float32, numpy=\n",
       "array([[1., 1., 1., 1., 1.],\n",
       "       [1., 1., 1., 1., 1.],\n",
       "       [1., 1., 1., 1., 1.],\n",
       "       [1., 1., 1., 1., 1.],\n",
       "       [1., 1., 1., 1., 1.]], dtype=float32)>"
      ]
     },
     "execution_count": 93,
     "metadata": {},
     "output_type": "execute_result"
    }
   ],
   "source": [
    "# Create tensor with all ones\n",
    "one = tf.ones([5,5]) # 5 rows and 5 columns\n",
    "one"
   ]
  },
  {
   "cell_type": "code",
   "execution_count": 95,
   "id": "c0468277-fc09-405d-b598-efed4c0335ff",
   "metadata": {},
   "outputs": [
    {
     "data": {
      "text/plain": [
       "<tf.Tensor: shape=(3, 3), dtype=float32, numpy=\n",
       "array([[1., 1., 1.],\n",
       "       [1., 1., 1.],\n",
       "       [1., 1., 1.]], dtype=float32)>"
      ]
     },
     "execution_count": 95,
     "metadata": {},
     "output_type": "execute_result"
    }
   ],
   "source": [
    "# another way to create the same thing\n",
    "one = tf.ones(shape=(3,3)) # 3 rows and 3 columns\n",
    "one"
   ]
  },
  {
   "cell_type": "code",
   "execution_count": 97,
   "id": "3051a4a7-e7fc-4465-a121-016a801fa8d2",
   "metadata": {},
   "outputs": [
    {
     "data": {
      "text/plain": [
       "<tf.Tensor: shape=(5, 5), dtype=float32, numpy=\n",
       "array([[0., 0., 0., 0., 0.],\n",
       "       [0., 0., 0., 0., 0.],\n",
       "       [0., 0., 0., 0., 0.],\n",
       "       [0., 0., 0., 0., 0.],\n",
       "       [0., 0., 0., 0., 0.]], dtype=float32)>"
      ]
     },
     "execution_count": 97,
     "metadata": {},
     "output_type": "execute_result"
    }
   ],
   "source": [
    "# Creating tensor with all zeros\n",
    "zero = tf.zeros([5,5])\n",
    "zero"
   ]
  },
  {
   "cell_type": "code",
   "execution_count": 99,
   "id": "36ed9da4-bdaf-41a3-9a2f-86eccffb40f7",
   "metadata": {},
   "outputs": [
    {
     "data": {
      "text/plain": [
       "<tf.Tensor: shape=(5, 5), dtype=float32, numpy=\n",
       "array([[0., 0., 0., 0., 0.],\n",
       "       [0., 0., 0., 0., 0.],\n",
       "       [0., 0., 0., 0., 0.],\n",
       "       [0., 0., 0., 0., 0.],\n",
       "       [0., 0., 0., 0., 0.]], dtype=float32)>"
      ]
     },
     "execution_count": 99,
     "metadata": {},
     "output_type": "execute_result"
    }
   ],
   "source": [
    "# same tensor with different parameter\n",
    "zero = tf.zeros(shape=(5,5))\n",
    "zero"
   ]
  },
  {
   "cell_type": "markdown",
   "id": "7cf78d47-7496-4b35-a3e8-ba3a856a81a4",
   "metadata": {},
   "source": [
    "# 8. Turn Numpy array into Tensors \n",
    "- `tf.constant` and `tf.convert_to_tensor`\n",
    "- The main difference between Numpy arrays are TensorFlow tensors is that tensors can be run on a GPU (much faster for numerical computing)."
   ]
  },
  {
   "cell_type": "code",
   "execution_count": 102,
   "id": "7bed7441-5ade-4d02-9522-c7be32ff9e7e",
   "metadata": {},
   "outputs": [
    {
     "data": {
      "text/plain": [
       "array([ 1,  2,  3,  4,  5,  6,  7,  8,  9, 10, 11, 12, 13, 14, 15, 16, 17,\n",
       "       18, 19, 20, 21, 22, 23, 24])"
      ]
     },
     "execution_count": 102,
     "metadata": {},
     "output_type": "execute_result"
    }
   ],
   "source": [
    "# You can also turn NumPy array into tensors \n",
    "import numpy as np \n",
    "numpy_A = np.arange(1,25,dtype=int) # creating numpy array from 1 to 25\n",
    "numpy_A"
   ]
  },
  {
   "cell_type": "code",
   "execution_count": 104,
   "id": "d4652629-78f3-4bcb-b2e2-3fead3f4d004",
   "metadata": {},
   "outputs": [
    {
     "data": {
      "text/plain": [
       "<tf.Tensor: shape=(24,), dtype=int32, numpy=\n",
       "array([ 1,  2,  3,  4,  5,  6,  7,  8,  9, 10, 11, 12, 13, 14, 15, 16, 17,\n",
       "       18, 19, 20, 21, 22, 23, 24])>"
      ]
     },
     "execution_count": 104,
     "metadata": {},
     "output_type": "execute_result"
    }
   ],
   "source": [
    "# First Method \n",
    "A = tf.constant(numpy_A)\n",
    "A"
   ]
  },
  {
   "cell_type": "code",
   "execution_count": 106,
   "id": "5cfec526-3f2b-4875-933e-914695b72522",
   "metadata": {},
   "outputs": [
    {
     "data": {
      "text/plain": [
       "<tf.Tensor: shape=(2, 3, 4), dtype=int32, numpy=\n",
       "array([[[ 1,  2,  3,  4],\n",
       "        [ 5,  6,  7,  8],\n",
       "        [ 9, 10, 11, 12]],\n",
       "\n",
       "       [[13, 14, 15, 16],\n",
       "        [17, 18, 19, 20],\n",
       "        [21, 22, 23, 24]]])>"
      ]
     },
     "execution_count": 106,
     "metadata": {},
     "output_type": "execute_result"
    }
   ],
   "source": [
    "# now i want to change the shape of it \n",
    "A = tf.constant(numpy_A,shape=(2,3,4))\n",
    "A"
   ]
  },
  {
   "cell_type": "code",
   "execution_count": 108,
   "id": "d62f6608-6164-4a75-82e6-278619645e75",
   "metadata": {},
   "outputs": [
    {
     "data": {
      "text/plain": [
       "3"
      ]
     },
     "execution_count": 108,
     "metadata": {},
     "output_type": "execute_result"
    }
   ],
   "source": [
    "A.ndim"
   ]
  },
  {
   "cell_type": "code",
   "execution_count": 109,
   "id": "291bc9e3-721f-4b43-aa9b-378f233e45ad",
   "metadata": {},
   "outputs": [
    {
     "data": {
      "text/plain": [
       "<tf.Tensor: shape=(24,), dtype=int32, numpy=\n",
       "array([ 1,  2,  3,  4,  5,  6,  7,  8,  9, 10, 11, 12, 13, 14, 15, 16, 17,\n",
       "       18, 19, 20, 21, 22, 23, 24])>"
      ]
     },
     "execution_count": 109,
     "metadata": {},
     "output_type": "execute_result"
    }
   ],
   "source": [
    "# Second Method \n",
    "B = tf.convert_to_tensor(numpy_A)\n",
    "B"
   ]
  },
  {
   "cell_type": "code",
   "execution_count": 112,
   "id": "4103bbca-de92-47b6-83fc-0dc94c6db9c9",
   "metadata": {},
   "outputs": [
    {
     "data": {
      "text/plain": [
       "1"
      ]
     },
     "execution_count": 112,
     "metadata": {},
     "output_type": "execute_result"
    }
   ],
   "source": [
    "B.ndim"
   ]
  },
  {
   "cell_type": "markdown",
   "id": "6ba4f98d-cb43-477f-8ced-665b887dc043",
   "metadata": {},
   "source": [
    "# 9. Getting Information from our tensors\n",
    "-  When dealing with tensors you probably want to be aware of the following attributes; \n",
    "\n",
    "- Tensor Attributes\n",
    "    * Shape\n",
    "    * Rank\n",
    "    * Axis and dimension\n",
    "    * Size\n",
    "\n",
    "<div>\n",
    "    <img src=\"../assets/12_tensor_attributes.png\">\n",
    "</div>"
   ]
  },
  {
   "cell_type": "code",
   "execution_count": 119,
   "id": "b79713ea-e340-49a7-a806-d8ec8e709c21",
   "metadata": {},
   "outputs": [],
   "source": [
    "# create a rank 4 tensor(4 dimension) \n",
    "rank_4_tensor = np.arange(81).reshape(3, 3, 3, 3)\n",
    "rank_4_tensor = tf.constant(rank_4_tensor)"
   ]
  },
  {
   "cell_type": "code",
   "execution_count": 121,
   "id": "e8163229-a171-4a5e-bb0b-d26e128598b0",
   "metadata": {},
   "outputs": [
    {
     "data": {
      "text/plain": [
       "<tf.Tensor: shape=(3, 3, 3), dtype=int32, numpy=\n",
       "array([[[ 0,  1,  2],\n",
       "        [ 3,  4,  5],\n",
       "        [ 6,  7,  8]],\n",
       "\n",
       "       [[ 9, 10, 11],\n",
       "        [12, 13, 14],\n",
       "        [15, 16, 17]],\n",
       "\n",
       "       [[18, 19, 20],\n",
       "        [21, 22, 23],\n",
       "        [24, 25, 26]]])>"
      ]
     },
     "execution_count": 121,
     "metadata": {},
     "output_type": "execute_result"
    }
   ],
   "source": [
    "rank_4_tensor[0]"
   ]
  },
  {
   "cell_type": "code",
   "execution_count": 123,
   "id": "f8ed379c-639d-44bb-9155-b068f34f7608",
   "metadata": {},
   "outputs": [
    {
     "data": {
      "text/plain": [
       "(TensorShape([3, 3, 3, 3]), 4, <tf.Tensor: shape=(), dtype=int32, numpy=81>)"
      ]
     },
     "execution_count": 123,
     "metadata": {},
     "output_type": "execute_result"
    }
   ],
   "source": [
    "rank_4_tensor.shape, rank_4_tensor.ndim, tf.size(rank_4_tensor)"
   ]
  },
  {
   "cell_type": "code",
   "execution_count": 125,
   "id": "8f57ac22-00ce-4585-bc28-9e53df691bbb",
   "metadata": {},
   "outputs": [
    {
     "data": {
      "text/plain": [
       "81"
      ]
     },
     "execution_count": 125,
     "metadata": {},
     "output_type": "execute_result"
    }
   ],
   "source": [
    "3*3*3*3"
   ]
  },
  {
   "cell_type": "code",
   "execution_count": 127,
   "id": "f8c05928-d3b5-45a6-9258-975fb969dafd",
   "metadata": {},
   "outputs": [
    {
     "name": "stdout",
     "output_type": "stream",
     "text": [
      "Datatype of every element: <dtype: 'int32'>\n",
      "Number of dimension: 4\n",
      "Shape of tensor: (3, 3, 3, 3)\n",
      "Elements along with 0 axis: 3\n",
      "Elements along the last axis: 3\n",
      "Total number of elements in our tensor: tf.Tensor(81, shape=(), dtype=int32)\n",
      "Total number of elements in our tensor: 81\n"
     ]
    }
   ],
   "source": [
    "# Get various aAttribute of our tensors \n",
    "print(\"Datatype of every element:\",rank_4_tensor.dtype)\n",
    "print(\"Number of dimension:\",rank_4_tensor.ndim)\n",
    "print(\"Shape of tensor:\",rank_4_tensor.shape)\n",
    "print(\"Elements along with 0 axis:\",rank_4_tensor.shape[0])\n",
    "print(\"Elements along the last axis:\",rank_4_tensor.shape[-1])\n",
    "print(\"Total number of elements in our tensor:\",tf.size(rank_4_tensor))\n",
    "print(\"Total number of elements in our tensor:\",tf.size(rank_4_tensor).numpy())"
   ]
  },
  {
   "cell_type": "markdown",
   "id": "c2a0eaf5-fc83-4048-b6f5-559fc18b7c7d",
   "metadata": {},
   "source": [
    "# 10. Indexing Tensors \n",
    "- Tensors can be indexed just like the python list\n"
   ]
  },
  {
   "cell_type": "code",
   "execution_count": 129,
   "id": "f06e9b0b-4eda-46f0-8cf4-72a66b432347",
   "metadata": {},
   "outputs": [
    {
     "data": {
      "text/plain": [
       "<tf.Tensor: shape=(2, 2, 2, 2), dtype=int32, numpy=\n",
       "array([[[[ 0,  1],\n",
       "         [ 3,  4]],\n",
       "\n",
       "        [[ 9, 10],\n",
       "         [12, 13]]],\n",
       "\n",
       "\n",
       "       [[[27, 28],\n",
       "         [30, 31]],\n",
       "\n",
       "        [[36, 37],\n",
       "         [39, 40]]]])>"
      ]
     },
     "execution_count": 129,
     "metadata": {},
     "output_type": "execute_result"
    }
   ],
   "source": [
    "# Get the first 2 elements of each dimension \n",
    "rank_4_tensor[:2,:2,:2,:2]"
   ]
  },
  {
   "cell_type": "code",
   "execution_count": 131,
   "id": "7bdcd9d3-c860-45f8-9805-fdba6d3f60fd",
   "metadata": {},
   "outputs": [
    {
     "data": {
      "text/plain": [
       "<tf.Tensor: shape=(1, 1, 1, 3), dtype=int32, numpy=array([[[[0, 1, 2]]]])>"
      ]
     },
     "execution_count": 131,
     "metadata": {},
     "output_type": "execute_result"
    }
   ],
   "source": [
    "# Get the first element from each dimension from each index except for the final one \n",
    "rank_4_tensor[:1,:1,:1]"
   ]
  },
  {
   "cell_type": "code",
   "execution_count": 137,
   "id": "bacc09bb-ae7b-4e71-95dc-971e778496f9",
   "metadata": {},
   "outputs": [
    {
     "data": {
      "text/plain": [
       "<tf.Tensor: shape=(3,), dtype=int32, numpy=array([ 0,  9, 18])>"
      ]
     },
     "execution_count": 137,
     "metadata": {},
     "output_type": "execute_result"
    }
   ],
   "source": [
    "# Get the first element from sub-array of 1 element of 4 dimension  \n",
    "rank_4_tensor[0,:,0,0]"
   ]
  },
  {
   "cell_type": "code",
   "execution_count": 139,
   "id": "a8ed8857-3334-4f72-8485-0fd510ac479c",
   "metadata": {},
   "outputs": [
    {
     "data": {
      "text/plain": [
       "<tf.Tensor: shape=(3,), dtype=int32, numpy=array([0, 1, 2])>"
      ]
     },
     "execution_count": 139,
     "metadata": {},
     "output_type": "execute_result"
    }
   ],
   "source": [
    "rank_4_tensor[0,0,0,:] \n",
    "# rank_4_tensor[:,0,:3,0]"
   ]
  },
  {
   "cell_type": "code",
   "execution_count": 141,
   "id": "1bea6ac2-7d61-4dc9-80e7-c9ba44250038",
   "metadata": {},
   "outputs": [
    {
     "data": {
      "text/plain": [
       "<tf.Tensor: shape=(2, 3), dtype=int32, numpy=\n",
       "array([[1, 2, 3],\n",
       "       [4, 5, 6]])>"
      ]
     },
     "execution_count": 141,
     "metadata": {},
     "output_type": "execute_result"
    }
   ],
   "source": [
    "# Create a rank 2 tensor (2 dimension) \n",
    "rank_2_tensor =  tf.constant([[1,2,3],\n",
    "                              [4,5,6]])\n",
    "rank_2_tensor"
   ]
  },
  {
   "cell_type": "code",
   "execution_count": 143,
   "id": "6ff214ed-26e9-424f-9421-64135dac937b",
   "metadata": {},
   "outputs": [
    {
     "data": {
      "text/plain": [
       "(TensorShape([2, 3]), <tf.Tensor: shape=(), dtype=int32, numpy=6>, 2)"
      ]
     },
     "execution_count": 143,
     "metadata": {},
     "output_type": "execute_result"
    }
   ],
   "source": [
    "rank_2_tensor.shape, tf.size(rank_2_tensor), rank_2_tensor.ndim"
   ]
  },
  {
   "cell_type": "code",
   "execution_count": 149,
   "id": "ff937324-8c44-4ada-beca-1ad58c05bfc9",
   "metadata": {},
   "outputs": [
    {
     "data": {
      "text/plain": [
       "<tf.Tensor: shape=(2,), dtype=int32, numpy=array([3, 6])>"
      ]
     },
     "execution_count": 149,
     "metadata": {},
     "output_type": "execute_result"
    }
   ],
   "source": [
    "# Get the last item of the each of row of our rank 2 tensor \n",
    "rank_2_tensor[:,-1]"
   ]
  },
  {
   "cell_type": "markdown",
   "id": "70e6f27e-8b4e-44cb-aa5d-10152ce03a37",
   "metadata": {},
   "source": [
    "# 11. Adding extra dimension to the tensor"
   ]
  },
  {
   "cell_type": "code",
   "execution_count": 154,
   "id": "a4fda27d-477a-46e9-8feb-9bf886acd841",
   "metadata": {},
   "outputs": [
    {
     "data": {
      "text/plain": [
       "<tf.Tensor: shape=(2, 3), dtype=int32, numpy=\n",
       "array([[1, 2, 3],\n",
       "       [4, 5, 6]])>"
      ]
     },
     "execution_count": 154,
     "metadata": {},
     "output_type": "execute_result"
    }
   ],
   "source": [
    "rank_2_tensor"
   ]
  },
  {
   "cell_type": "code",
   "execution_count": 160,
   "id": "7bdec706-2218-4a38-ae73-e584a8dcb151",
   "metadata": {},
   "outputs": [
    {
     "data": {
      "text/plain": [
       "<tf.Tensor: shape=(2, 3, 1), dtype=int32, numpy=\n",
       "array([[[1],\n",
       "        [2],\n",
       "        [3]],\n",
       "\n",
       "       [[4],\n",
       "        [5],\n",
       "        [6]]])>"
      ]
     },
     "execution_count": 160,
     "metadata": {},
     "output_type": "execute_result"
    }
   ],
   "source": [
    "rank_3_tensor = rank_2_tensor[:,: , tf.newaxis]\n",
    "rank_3_tensor"
   ]
  },
  {
   "cell_type": "code",
   "execution_count": 162,
   "id": "69777766-80a7-4a7e-b610-ca1827133eb4",
   "metadata": {},
   "outputs": [
    {
     "data": {
      "text/plain": [
       "<tf.Tensor: shape=(2, 3, 1), dtype=int32, numpy=\n",
       "array([[[1],\n",
       "        [2],\n",
       "        [3]],\n",
       "\n",
       "       [[4],\n",
       "        [5],\n",
       "        [6]]])>"
      ]
     },
     "execution_count": 162,
     "metadata": {},
     "output_type": "execute_result"
    }
   ],
   "source": [
    "rank_3_tensor = rank_2_tensor[... , tf.newaxis]\n",
    "rank_3_tensor"
   ]
  },
  {
   "cell_type": "code",
   "execution_count": 168,
   "id": "4b1388ba-4e25-4e78-9203-6721bb2e56c7",
   "metadata": {},
   "outputs": [
    {
     "data": {
      "text/plain": [
       "<tf.Tensor: shape=(2, 3, 1), dtype=int32, numpy=\n",
       "array([[[1],\n",
       "        [2],\n",
       "        [3]],\n",
       "\n",
       "       [[4],\n",
       "        [5],\n",
       "        [6]]])>"
      ]
     },
     "execution_count": 168,
     "metadata": {},
     "output_type": "execute_result"
    }
   ],
   "source": [
    "# Alternative of the `tf.newaxis`\n",
    "tf.expand_dims(rank_2_tensor,axis=-1)# -1 means expand the final axis "
   ]
  },
  {
   "cell_type": "code",
   "execution_count": 172,
   "id": "604175c3-b375-4b5f-b6f8-05502aad8678",
   "metadata": {},
   "outputs": [
    {
     "data": {
      "text/plain": [
       "<tf.Tensor: shape=(1, 2, 3), dtype=int32, numpy=\n",
       "array([[[1, 2, 3],\n",
       "        [4, 5, 6]]])>"
      ]
     },
     "execution_count": 172,
     "metadata": {},
     "output_type": "execute_result"
    }
   ],
   "source": [
    "tf.expand_dims(rank_2_tensor,axis=0) # expand the 0-axis "
   ]
  },
  {
   "cell_type": "markdown",
   "id": "723bb8c2-201f-4ffe-bf72-8c82a7af6ab8",
   "metadata": {},
   "source": [
    "# 12. Manipulating Tensors (tensor operations)"
   ]
  },
  {
   "cell_type": "markdown",
   "id": "2cc5b7ea-f2e7-4e5a-b223-37505f357bc5",
   "metadata": {},
   "source": [
    "## Basic Operations \n",
    "`+`, `-`, `*`, `/`"
   ]
  },
  {
   "cell_type": "code",
   "execution_count": 179,
   "id": "dd548976-9ff2-4a09-8be2-2e73a2c161a1",
   "metadata": {},
   "outputs": [
    {
     "data": {
      "text/plain": [
       "<tf.Tensor: shape=(2, 2), dtype=int32, numpy=\n",
       "array([[20, 17],\n",
       "       [13, 14]])>"
      ]
     },
     "execution_count": 179,
     "metadata": {},
     "output_type": "execute_result"
    }
   ],
   "source": [
    "# You can add values to a tensor using the addition operator \n",
    "tensor = tf.constant([[10,7],[3,4]])\n",
    "tensor + 10"
   ]
  },
  {
   "cell_type": "code",
   "execution_count": 181,
   "id": "53ecf72c-d31d-4329-bd85-43d0e2b8084f",
   "metadata": {},
   "outputs": [
    {
     "data": {
      "text/plain": [
       "<tf.Tensor: shape=(2, 2), dtype=int32, numpy=\n",
       "array([[10,  7],\n",
       "       [ 3,  4]])>"
      ]
     },
     "execution_count": 181,
     "metadata": {},
     "output_type": "execute_result"
    }
   ],
   "source": [
    "# Original tensor is unchanged \n",
    "tensor"
   ]
  },
  {
   "cell_type": "code",
   "execution_count": 183,
   "id": "88981993-686b-48a5-b6dc-71014033174f",
   "metadata": {},
   "outputs": [
    {
     "data": {
      "text/plain": [
       "<tf.Tensor: shape=(2, 2), dtype=int32, numpy=\n",
       "array([[100,  70],\n",
       "       [ 30,  40]])>"
      ]
     },
     "execution_count": 183,
     "metadata": {},
     "output_type": "execute_result"
    }
   ],
   "source": [
    "# Multiplication also works\n",
    "tensor * 10"
   ]
  },
  {
   "cell_type": "code",
   "execution_count": 185,
   "id": "f0433a24-563d-4eb6-8e4a-ec9f68002430",
   "metadata": {},
   "outputs": [
    {
     "data": {
      "text/plain": [
       "<tf.Tensor: shape=(2, 2), dtype=int32, numpy=\n",
       "array([[ 0, -3],\n",
       "       [-7, -6]])>"
      ]
     },
     "execution_count": 185,
     "metadata": {},
     "output_type": "execute_result"
    }
   ],
   "source": [
    "# Substraction if you want \n",
    "tensor -10"
   ]
  },
  {
   "cell_type": "code",
   "execution_count": 187,
   "id": "c1daed55-3ecd-4a31-8a29-3c6f62b6f487",
   "metadata": {},
   "outputs": [
    {
     "data": {
      "text/plain": [
       "<tf.Tensor: shape=(2, 2), dtype=float64, numpy=\n",
       "array([[1. , 0.7],\n",
       "       [0.3, 0.4]])>"
      ]
     },
     "execution_count": 187,
     "metadata": {},
     "output_type": "execute_result"
    }
   ],
   "source": [
    "# Now , lets not leave divide\n",
    "tensor / 10"
   ]
  },
  {
   "cell_type": "markdown",
   "id": "38e13f2a-4926-4392-98b5-16bf35c48c3c",
   "metadata": {},
   "source": [
    "## Built in `tf.math.<name>`"
   ]
  },
  {
   "cell_type": "code",
   "execution_count": 195,
   "id": "80634fef-fb71-4b6f-8a26-dc6f64a52fcd",
   "metadata": {},
   "outputs": [
    {
     "data": {
      "text/plain": [
       "<tf.Tensor: shape=(2, 2), dtype=int32, numpy=\n",
       "array([[10,  7],\n",
       "       [ 3,  4]])>"
      ]
     },
     "execution_count": 195,
     "metadata": {},
     "output_type": "execute_result"
    }
   ],
   "source": [
    "tensor"
   ]
  },
  {
   "cell_type": "code",
   "execution_count": 193,
   "id": "2abd0fe8-d5a7-40c0-8dbf-49a98acc677e",
   "metadata": {},
   "outputs": [
    {
     "data": {
      "text/plain": [
       "<tf.Tensor: shape=(2, 2), dtype=int32, numpy=\n",
       "array([[20, 17],\n",
       "       [13, 14]])>"
      ]
     },
     "execution_count": 193,
     "metadata": {},
     "output_type": "execute_result"
    }
   ],
   "source": [
    "# Addition \n",
    "tf.math.add(tensor,10)"
   ]
  },
  {
   "cell_type": "code",
   "execution_count": 199,
   "id": "49b3c9d9-5ab1-42ee-9977-d0015242bad2",
   "metadata": {},
   "outputs": [
    {
     "data": {
      "text/plain": [
       "<tf.Tensor: shape=(2, 2), dtype=int32, numpy=\n",
       "array([[ 0, -3],\n",
       "       [-7, -6]])>"
      ]
     },
     "execution_count": 199,
     "metadata": {},
     "output_type": "execute_result"
    }
   ],
   "source": [
    "# Subtraction \n",
    "tf.math.subtract(tensor,10) "
   ]
  },
  {
   "cell_type": "code",
   "execution_count": 201,
   "id": "195d5e0b-b407-461f-9879-592ebf0c4ee0",
   "metadata": {},
   "outputs": [
    {
     "data": {
      "text/plain": [
       "<tf.Tensor: shape=(2, 2), dtype=int32, numpy=\n",
       "array([[100,  70],\n",
       "       [ 30,  40]])>"
      ]
     },
     "execution_count": 201,
     "metadata": {},
     "output_type": "execute_result"
    }
   ],
   "source": [
    "# Multiplication \n",
    "tf.math.multiply(tensor,10)"
   ]
  },
  {
   "cell_type": "code",
   "execution_count": 203,
   "id": "943c4ff6-18c9-4cbe-b4eb-d5bf636b97eb",
   "metadata": {},
   "outputs": [
    {
     "data": {
      "text/plain": [
       "<tf.Tensor: shape=(2, 2), dtype=float64, numpy=\n",
       "array([[1. , 0.7],\n",
       "       [0.3, 0.4]])>"
      ]
     },
     "execution_count": 203,
     "metadata": {},
     "output_type": "execute_result"
    }
   ],
   "source": [
    "# Division \n",
    "tf.math.divide(tensor,10)"
   ]
  },
  {
   "cell_type": "markdown",
   "id": "9ab852ee-08bd-4dff-978c-58c149bdd699",
   "metadata": {},
   "source": [
    "# 13. Matrix Multiplication \n",
    "`tf.linalg.matmul` or `tf.matmul`\n",
    "- In machine learning, matrix multiplication is one of the most common tensor operations.\n",
    "- There are two rules our tensors (or metrices) need to fulfil if we're going to matrix multiply them:\n",
    "    1. The inner dimensions must match.\n",
    "    2. The resulting matrix has the shape of the outter dimension."
   ]
  },
  {
   "cell_type": "code",
   "execution_count": 235,
   "id": "0743a050-5cbe-4ba6-b6ed-f1d3965559ff",
   "metadata": {},
   "outputs": [
    {
     "name": "stdout",
     "output_type": "stream",
     "text": [
      "tf.Tensor(\n",
      "[[10  7]\n",
      " [ 3  4]], shape=(2, 2), dtype=int32)\n"
     ]
    },
    {
     "data": {
      "text/plain": [
       "<tf.Tensor: shape=(2, 2), dtype=int32, numpy=\n",
       "array([[121,  98],\n",
       "       [ 42,  37]])>"
      ]
     },
     "execution_count": 235,
     "metadata": {},
     "output_type": "execute_result"
    }
   ],
   "source": [
    "# Matric multiplication in tensorflow \n",
    "print(tensor)\n",
    "tf.matmul(tensor, tensor ) # basically performing dot product "
   ]
  },
  {
   "cell_type": "code",
   "execution_count": 215,
   "id": "1429d27b-153d-4e3e-b9e6-cf1cb0c9d270",
   "metadata": {},
   "outputs": [
    {
     "data": {
      "text/plain": [
       "(<tf.Tensor: shape=(2, 2), dtype=int32, numpy=\n",
       " array([[10,  7],\n",
       "        [ 3,  4]])>,\n",
       " <tf.Tensor: shape=(2, 2), dtype=int32, numpy=\n",
       " array([[10,  7],\n",
       "        [ 3,  4]])>)"
      ]
     },
     "execution_count": 215,
     "metadata": {},
     "output_type": "execute_result"
    }
   ],
   "source": [
    "tensor, tensor"
   ]
  },
  {
   "cell_type": "code",
   "execution_count": 219,
   "id": "7376a261-9dc6-477d-bd19-b488f571f113",
   "metadata": {},
   "outputs": [
    {
     "data": {
      "text/plain": [
       "<tf.Tensor: shape=(2, 2), dtype=int32, numpy=\n",
       "array([[100,  49],\n",
       "       [  9,  16]])>"
      ]
     },
     "execution_count": 219,
     "metadata": {},
     "output_type": "execute_result"
    }
   ],
   "source": [
    "tensor * tensor # simply multipling the both tensors "
   ]
  },
  {
   "cell_type": "code",
   "execution_count": 221,
   "id": "73cf04dc-cdbb-443f-aa41-7ed70d22f1f9",
   "metadata": {},
   "outputs": [
    {
     "data": {
      "text/plain": [
       "<tf.Tensor: shape=(2, 2), dtype=int32, numpy=\n",
       "array([[121,  98],\n",
       "       [ 42,  37]])>"
      ]
     },
     "execution_count": 221,
     "metadata": {},
     "output_type": "execute_result"
    }
   ],
   "source": [
    "# Matrix multiplication with python operator \"@\"\n",
    "tensor @ tensor"
   ]
  },
  {
   "cell_type": "code",
   "execution_count": 7,
   "id": "709e91b9-ccec-4e63-88ed-bd028d5255a2",
   "metadata": {},
   "outputs": [],
   "source": [
    "# Create a tensror (3,2) tensor \n",
    "x = tf.constant([[1,2],[3,4],[5,6]])\n",
    "\n",
    "# Create a tensror (3,2) tensor \n",
    "y = tf.constant([[7,8],[9,10],[11,12]])"
   ]
  },
  {
   "cell_type": "code",
   "execution_count": 229,
   "id": "60def161-a937-4f2d-b665-aced16ae538c",
   "metadata": {},
   "outputs": [
    {
     "data": {
      "text/plain": [
       "(<tf.Tensor: shape=(3, 2), dtype=int32, numpy=\n",
       " array([[1, 2],\n",
       "        [3, 4],\n",
       "        [5, 6]])>,\n",
       " <tf.Tensor: shape=(3, 2), dtype=int32, numpy=\n",
       " array([[ 7,  8],\n",
       "        [ 9, 10],\n",
       "        [11, 12]])>)"
      ]
     },
     "execution_count": 229,
     "metadata": {},
     "output_type": "execute_result"
    }
   ],
   "source": [
    "x,y"
   ]
  },
  {
   "cell_type": "code",
   "execution_count": 233,
   "id": "d0dcaba7-f7ea-46df-90a6-13243eb904a9",
   "metadata": {
    "scrolled": true
   },
   "outputs": [
    {
     "ename": "InvalidArgumentError",
     "evalue": "{{function_node __wrapped__MatMul_device_/job:localhost/replica:0/task:0/device:CPU:0}} Matrix size-incompatible: In[0]: [3,2], In[1]: [3,2] [Op:MatMul] name: ",
     "output_type": "error",
     "traceback": [
      "\u001b[1;31m---------------------------------------------------------------------------\u001b[0m",
      "\u001b[1;31mInvalidArgumentError\u001b[0m                      Traceback (most recent call last)",
      "Cell \u001b[1;32mIn[233], line 2\u001b[0m\n\u001b[0;32m      1\u001b[0m \u001b[38;5;66;03m# Try to matrix multiply tensor of same shape\u001b[39;00m\n\u001b[1;32m----> 2\u001b[0m \u001b[43mtf\u001b[49m\u001b[38;5;241;43m.\u001b[39;49m\u001b[43mmatmul\u001b[49m\u001b[43m(\u001b[49m\u001b[43mx\u001b[49m\u001b[43m,\u001b[49m\u001b[43my\u001b[49m\u001b[43m)\u001b[49m\n",
      "File \u001b[1;32m~\\anaconda3\\Lib\\site-packages\\tensorflow\\python\\ops\\weak_tensor_ops.py:142\u001b[0m, in \u001b[0;36mweak_tensor_binary_op_wrapper.<locals>.wrapper\u001b[1;34m(*args, **kwargs)\u001b[0m\n\u001b[0;32m    140\u001b[0m \u001b[38;5;28;01mdef\u001b[39;00m \u001b[38;5;21mwrapper\u001b[39m(\u001b[38;5;241m*\u001b[39margs, \u001b[38;5;241m*\u001b[39m\u001b[38;5;241m*\u001b[39mkwargs):\n\u001b[0;32m    141\u001b[0m   \u001b[38;5;28;01mif\u001b[39;00m \u001b[38;5;129;01mnot\u001b[39;00m ops\u001b[38;5;241m.\u001b[39mis_auto_dtype_conversion_enabled():\n\u001b[1;32m--> 142\u001b[0m     \u001b[38;5;28;01mreturn\u001b[39;00m \u001b[43mop\u001b[49m\u001b[43m(\u001b[49m\u001b[38;5;241;43m*\u001b[39;49m\u001b[43margs\u001b[49m\u001b[43m,\u001b[49m\u001b[43m \u001b[49m\u001b[38;5;241;43m*\u001b[39;49m\u001b[38;5;241;43m*\u001b[39;49m\u001b[43mkwargs\u001b[49m\u001b[43m)\u001b[49m\n\u001b[0;32m    143\u001b[0m   bound_arguments \u001b[38;5;241m=\u001b[39m signature\u001b[38;5;241m.\u001b[39mbind(\u001b[38;5;241m*\u001b[39margs, \u001b[38;5;241m*\u001b[39m\u001b[38;5;241m*\u001b[39mkwargs)\n\u001b[0;32m    144\u001b[0m   bound_arguments\u001b[38;5;241m.\u001b[39mapply_defaults()\n",
      "File \u001b[1;32m~\\anaconda3\\Lib\\site-packages\\tensorflow\\python\\util\\traceback_utils.py:153\u001b[0m, in \u001b[0;36mfilter_traceback.<locals>.error_handler\u001b[1;34m(*args, **kwargs)\u001b[0m\n\u001b[0;32m    151\u001b[0m \u001b[38;5;28;01mexcept\u001b[39;00m \u001b[38;5;167;01mException\u001b[39;00m \u001b[38;5;28;01mas\u001b[39;00m e:\n\u001b[0;32m    152\u001b[0m   filtered_tb \u001b[38;5;241m=\u001b[39m _process_traceback_frames(e\u001b[38;5;241m.\u001b[39m__traceback__)\n\u001b[1;32m--> 153\u001b[0m   \u001b[38;5;28;01mraise\u001b[39;00m e\u001b[38;5;241m.\u001b[39mwith_traceback(filtered_tb) \u001b[38;5;28;01mfrom\u001b[39;00m \u001b[38;5;28;01mNone\u001b[39;00m\n\u001b[0;32m    154\u001b[0m \u001b[38;5;28;01mfinally\u001b[39;00m:\n\u001b[0;32m    155\u001b[0m   \u001b[38;5;28;01mdel\u001b[39;00m filtered_tb\n",
      "File \u001b[1;32m~\\anaconda3\\Lib\\site-packages\\tensorflow\\python\\framework\\ops.py:5983\u001b[0m, in \u001b[0;36mraise_from_not_ok_status\u001b[1;34m(e, name)\u001b[0m\n\u001b[0;32m   5981\u001b[0m \u001b[38;5;28;01mdef\u001b[39;00m \u001b[38;5;21mraise_from_not_ok_status\u001b[39m(e, name) \u001b[38;5;241m-\u001b[39m\u001b[38;5;241m>\u001b[39m NoReturn:\n\u001b[0;32m   5982\u001b[0m   e\u001b[38;5;241m.\u001b[39mmessage \u001b[38;5;241m+\u001b[39m\u001b[38;5;241m=\u001b[39m (\u001b[38;5;124m\"\u001b[39m\u001b[38;5;124m name: \u001b[39m\u001b[38;5;124m\"\u001b[39m \u001b[38;5;241m+\u001b[39m \u001b[38;5;28mstr\u001b[39m(name \u001b[38;5;28;01mif\u001b[39;00m name \u001b[38;5;129;01mis\u001b[39;00m \u001b[38;5;129;01mnot\u001b[39;00m \u001b[38;5;28;01mNone\u001b[39;00m \u001b[38;5;28;01melse\u001b[39;00m \u001b[38;5;124m\"\u001b[39m\u001b[38;5;124m\"\u001b[39m))\n\u001b[1;32m-> 5983\u001b[0m   \u001b[38;5;28;01mraise\u001b[39;00m core\u001b[38;5;241m.\u001b[39m_status_to_exception(e) \u001b[38;5;28;01mfrom\u001b[39;00m \u001b[38;5;28;01mNone\u001b[39;00m\n",
      "\u001b[1;31mInvalidArgumentError\u001b[0m: {{function_node __wrapped__MatMul_device_/job:localhost/replica:0/task:0/device:CPU:0}} Matrix size-incompatible: In[0]: [3,2], In[1]: [3,2] [Op:MatMul] name: "
     ]
    }
   ],
   "source": [
    "# Try to matrix multiply tensor of same shape\n",
    "tf.matmul(x,y)"
   ]
  },
  {
   "cell_type": "code",
   "execution_count": 242,
   "id": "b4b0dda7-c29b-49ac-ac1f-77d1b66130c4",
   "metadata": {},
   "outputs": [
    {
     "data": {
      "text/plain": [
       "<tf.Tensor: shape=(2, 3), dtype=int32, numpy=\n",
       "array([[ 7,  8,  9],\n",
       "       [10, 11, 12]])>"
      ]
     },
     "execution_count": 242,
     "metadata": {},
     "output_type": "execute_result"
    }
   ],
   "source": [
    "# Let's change the shape of \"y\" \n",
    "y_changed = tf.reshape(y, shape=(2,3))\n",
    "y_changed"
   ]
  },
  {
   "cell_type": "code",
   "execution_count": 244,
   "id": "7ba01050-42e7-467b-a890-bdfe754c9437",
   "metadata": {},
   "outputs": [
    {
     "data": {
      "text/plain": [
       "<tf.Tensor: shape=(3, 3), dtype=int32, numpy=\n",
       "array([[ 27,  30,  33],\n",
       "       [ 61,  68,  75],\n",
       "       [ 95, 106, 117]])>"
      ]
     },
     "execution_count": 244,
     "metadata": {},
     "output_type": "execute_result"
    }
   ],
   "source": [
    "# Again try to multiply y_changed to x\n",
    "tf.matmul(x,y_changed)"
   ]
  },
  {
   "cell_type": "code",
   "execution_count": 248,
   "id": "c7b50a28-1fda-4d70-8b43-42c2ab449905",
   "metadata": {},
   "outputs": [
    {
     "data": {
      "text/plain": [
       "<tf.Tensor: shape=(2, 2), dtype=int32, numpy=\n",
       "array([[ 58,  64],\n",
       "       [139, 154]])>"
      ]
     },
     "execution_count": 248,
     "metadata": {},
     "output_type": "execute_result"
    }
   ],
   "source": [
    "tf.matmul(tf.reshape(x,shape=(2,3)),y)"
   ]
  },
  {
   "cell_type": "markdown",
   "id": "1f5b3d37-dc61-497a-be6d-9a355bd595d5",
   "metadata": {},
   "source": [
    "## Transpose of matrix "
   ]
  },
  {
   "cell_type": "code",
   "execution_count": 251,
   "id": "33d4634b-b061-41be-a5b6-2bba32461a03",
   "metadata": {},
   "outputs": [
    {
     "data": {
      "text/plain": [
       "<tf.Tensor: shape=(2, 3), dtype=int32, numpy=\n",
       "array([[1, 3, 5],\n",
       "       [2, 4, 6]])>"
      ]
     },
     "execution_count": 251,
     "metadata": {},
     "output_type": "execute_result"
    }
   ],
   "source": [
    "# can do the same with transpose \n",
    "tf.transpose(x)"
   ]
  },
  {
   "cell_type": "code",
   "execution_count": 255,
   "id": "be0b6dd4-b337-401e-ac64-37454cafbdf4",
   "metadata": {},
   "outputs": [
    {
     "data": {
      "text/plain": [
       "<tf.Tensor: shape=(2, 2), dtype=int32, numpy=\n",
       "array([[ 89,  98],\n",
       "       [116, 128]])>"
      ]
     },
     "execution_count": 255,
     "metadata": {},
     "output_type": "execute_result"
    }
   ],
   "source": [
    "# Try matrix multiplication with transpose rather than reshape \n",
    "tf.matmul(tf.transpose(x),y)"
   ]
  },
  {
   "cell_type": "markdown",
   "id": "77744101-9161-4bc5-bb3e-a5aae6dda6b6",
   "metadata": {},
   "source": [
    "## The dot product \n",
    "- Matrix multiplication is also referred to as the dot product.\n",
    "- You can perform matrix multiplication using:\n",
    "    - `tf.matmul()`\n",
    "    - `tf.tensordot()`\n",
    "    - `@`"
   ]
  },
  {
   "cell_type": "code",
   "execution_count": 19,
   "id": "605a99ab-3e2f-47ce-85dd-7a1c8c667135",
   "metadata": {},
   "outputs": [
    {
     "data": {
      "text/plain": [
       "<tf.Tensor: shape=(2, 2), dtype=int32, numpy=\n",
       "array([[ 89,  98],\n",
       "       [116, 128]])>"
      ]
     },
     "execution_count": 19,
     "metadata": {},
     "output_type": "execute_result"
    }
   ],
   "source": [
    "# perform the dot product on x and y (requires x or y to be transpose)\n",
    "tf.tensordot(tf.transpose(x),y,axes=1)"
   ]
  },
  {
   "cell_type": "code",
   "execution_count": 27,
   "id": "fb753383-6827-427a-a08a-841e6f5142fb",
   "metadata": {},
   "outputs": [
    {
     "data": {
      "text/plain": [
       "<tf.Tensor: shape=(3, 3), dtype=int32, numpy=\n",
       "array([[ 23,  29,  35],\n",
       "       [ 53,  67,  81],\n",
       "       [ 83, 105, 127]])>"
      ]
     },
     "execution_count": 27,
     "metadata": {},
     "output_type": "execute_result"
    }
   ],
   "source": [
    "# perform matrix multiplication between x and y (transpose) \n",
    "tf.matmul(x,tf.transpose(y))"
   ]
  },
  {
   "cell_type": "code",
   "execution_count": 25,
   "id": "e16d74b9-6676-4ead-bb2c-f326fe3fa123",
   "metadata": {},
   "outputs": [
    {
     "data": {
      "text/plain": [
       "<tf.Tensor: shape=(3, 3), dtype=int32, numpy=\n",
       "array([[ 27,  30,  33],\n",
       "       [ 61,  68,  75],\n",
       "       [ 95, 106, 117]])>"
      ]
     },
     "execution_count": 25,
     "metadata": {},
     "output_type": "execute_result"
    }
   ],
   "source": [
    "# perform matrix multiplication between x and y (reshape)\n",
    "tf.matmul(x,tf.reshape(y,shape=(2,3)))"
   ]
  },
  {
   "cell_type": "code",
   "execution_count": 35,
   "id": "f82793e9-a51d-4e0b-b6cf-f3518127d53e",
   "metadata": {},
   "outputs": [
    {
     "name": "stdout",
     "output_type": "stream",
     "text": [
      "Normal y:\n",
      "tf.Tensor(\n",
      "[[ 7  8]\n",
      " [ 9 10]\n",
      " [11 12]], shape=(3, 2), dtype=int32) \n",
      "\n",
      "y reshape to (2,3):\n",
      "tf.Tensor(\n",
      "[[ 7  8  9]\n",
      " [10 11 12]], shape=(2, 3), dtype=int32) \n",
      "\n",
      "y tranpose:\n",
      "tf.Tensor(\n",
      "[[ 7  9 11]\n",
      " [ 8 10 12]], shape=(2, 3), dtype=int32)\n"
     ]
    }
   ],
   "source": [
    "# Chekc the value of y, reshape y and transpose y \n",
    "print(\"Normal y:\")\n",
    "print(y,\"\\n\") \n",
    "\n",
    "print(\"y reshape to (2,3):\")\n",
    "print(tf.reshape(y,(2,3)),\"\\n\") \n",
    "\n",
    "print(\"y tranpose:\")\n",
    "print(tf.transpose(y))"
   ]
  },
  {
   "cell_type": "markdown",
   "id": "df87771c-a3e7-4032-b7c7-b5ef8683cfa9",
   "metadata": {},
   "source": [
    "-  Generally, when performing matrix multipication on two tensors and one of the axes doesn't line up, you will transpose ()rather than reshape) one of the tensors to get satisify the matrix multiplication rules."
   ]
  },
  {
   "cell_type": "markdown",
   "id": "c6384ad7-3fa4-4334-8c87-73a7dda4d9ef",
   "metadata": {},
   "source": [
    "# 14. Changing the datatype of a tensor  "
   ]
  },
  {
   "cell_type": "code",
   "execution_count": 43,
   "id": "15a72c33-5777-459c-b6bb-48bf5e77e87a",
   "metadata": {},
   "outputs": [
    {
     "data": {
      "text/plain": [
       "tf.float32"
      ]
     },
     "execution_count": 43,
     "metadata": {},
     "output_type": "execute_result"
    }
   ],
   "source": [
    "# Create a new tensor with default datatype(float 32)\n",
    "b = tf.constant([1.2,3.2])\n",
    "b.dtype"
   ]
  },
  {
   "cell_type": "code",
   "execution_count": 45,
   "id": "64dcd710-466a-458b-a137-73cb27c92550",
   "metadata": {},
   "outputs": [
    {
     "data": {
      "text/plain": [
       "tf.int32"
      ]
     },
     "execution_count": 45,
     "metadata": {},
     "output_type": "execute_result"
    }
   ],
   "source": [
    "# Creating other tensor \n",
    "a = tf.constant([1,2,3,4])\n",
    "a.dtype"
   ]
  },
  {
   "cell_type": "code",
   "execution_count": 47,
   "id": "3f3b7d49-09e1-45ca-863e-ef8deaf3ed4a",
   "metadata": {},
   "outputs": [
    {
     "data": {
      "text/plain": [
       "(<tf.Tensor: shape=(2,), dtype=float16, numpy=array([1.2, 3.2], dtype=float16)>,\n",
       " tf.float16)"
      ]
     },
     "execution_count": 47,
     "metadata": {},
     "output_type": "execute_result"
    }
   ],
   "source": [
    "# Change from float32  to float16 (reduce precision) \n",
    "d = tf.cast(b,dtype=tf.float16)\n",
    "d, d.dtype"
   ]
  },
  {
   "cell_type": "code",
   "execution_count": 53,
   "id": "76eb66a5-35ed-47c3-b91f-ebd592d5539d",
   "metadata": {},
   "outputs": [
    {
     "data": {
      "text/plain": [
       "<tf.Tensor: shape=(3,), dtype=float32, numpy=array([1., 2., 4.], dtype=float32)>"
      ]
     },
     "execution_count": 53,
     "metadata": {},
     "output_type": "execute_result"
    }
   ],
   "source": [
    "# Change from int32 to float32 \n",
    "e =  tf.cast(a,dtype=tf.float32)\n",
    "e"
   ]
  },
  {
   "cell_type": "markdown",
   "id": "f2364e71-b215-4796-9f8d-0486410fd6fb",
   "metadata": {},
   "source": [
    "# 15. Aggregating Tensors\n",
    "- Aggregating tensors = condensing them from multiple values down to a smaller amount of values."
   ]
  },
  {
   "cell_type": "code",
   "execution_count": 7,
   "id": "fa63224c-2fc3-4b61-8d8c-dcb56313ef35",
   "metadata": {},
   "outputs": [
    {
     "data": {
      "text/plain": [
       "<tf.Tensor: shape=(2,), dtype=int32, numpy=array([ -7, -10])>"
      ]
     },
     "execution_count": 7,
     "metadata": {},
     "output_type": "execute_result"
    }
   ],
   "source": [
    "# Get the absolute values \n",
    "D = tf.constant([-7,-10])\n",
    "D"
   ]
  },
  {
   "cell_type": "code",
   "execution_count": 9,
   "id": "f990e721-37de-40a2-886a-1a4308e98e75",
   "metadata": {},
   "outputs": [
    {
     "data": {
      "text/plain": [
       "<tf.Tensor: shape=(2,), dtype=int32, numpy=array([ 7, 10])>"
      ]
     },
     "execution_count": 9,
     "metadata": {},
     "output_type": "execute_result"
    }
   ],
   "source": [
    "tf.abs(D)"
   ]
  },
  {
   "cell_type": "markdown",
   "id": "3ac661d1-cb30-465a-9550-49f5a0b529f0",
   "metadata": {},
   "source": [
    "Let's go through the following form of aggregation \n",
    "* Get the minimum \n",
    "* Get the maximum \n",
    "* Get the mean of a tensor \n",
    "* Get the sum of tensor "
   ]
  },
  {
   "cell_type": "code",
   "execution_count": 20,
   "id": "c7e1d440-a08e-470f-a1a9-fa92a85ca5ae",
   "metadata": {
    "scrolled": true
   },
   "outputs": [
    {
     "data": {
      "text/plain": [
       "<tf.Tensor: shape=(50,), dtype=int32, numpy=\n",
       "array([12, 53, 78, 89, 11, 42,  3, 29, 60, 30, 32, 19, 35, 52, 50,  3, 70,\n",
       "       52,  4, 10, 95, 97, 32, 74, 77,  4, 12, 67, 90, 24, 47, 67, 83, 25,\n",
       "        2,  2, 32, 57, 80, 18, 77, 63,  8, 89, 97, 16, 38, 13, 35, 28])>"
      ]
     },
     "execution_count": 20,
     "metadata": {},
     "output_type": "execute_result"
    }
   ],
   "source": [
    "# Creating random tensor with values between 0 to 100 of size 50 \n",
    "E = tf.constant(np.random.randint(0,100,size=50))\n",
    "E"
   ]
  },
  {
   "cell_type": "code",
   "execution_count": 22,
   "id": "ab83c5e7-4db4-4b90-b3c8-2c99a7de5821",
   "metadata": {},
   "outputs": [
    {
     "data": {
      "text/plain": [
       "(<tf.Tensor: shape=(), dtype=int32, numpy=50>,\n",
       " <tf.Tensor: shape=(1,), dtype=int32, numpy=array([50])>,\n",
       " 1)"
      ]
     },
     "execution_count": 22,
     "metadata": {},
     "output_type": "execute_result"
    }
   ],
   "source": [
    "tf.size(E), tf.shape(E), E.ndim"
   ]
  },
  {
   "cell_type": "code",
   "execution_count": 24,
   "id": "28a2815a-0448-4218-8d35-664bda84d699",
   "metadata": {},
   "outputs": [
    {
     "data": {
      "text/plain": [
       "<tf.Tensor: shape=(), dtype=int32, numpy=2>"
      ]
     },
     "execution_count": 24,
     "metadata": {},
     "output_type": "execute_result"
    }
   ],
   "source": [
    "# Find the minimum \n",
    "tf.reduce_min(E)"
   ]
  },
  {
   "cell_type": "code",
   "execution_count": 26,
   "id": "77e61c3c-9ba0-422c-a3f0-4f5e5fec7ff0",
   "metadata": {},
   "outputs": [
    {
     "data": {
      "text/plain": [
       "<tf.Tensor: shape=(), dtype=int32, numpy=97>"
      ]
     },
     "execution_count": 26,
     "metadata": {},
     "output_type": "execute_result"
    }
   ],
   "source": [
    "# Find the miximum \n",
    "tf.reduce_max(E)"
   ]
  },
  {
   "cell_type": "code",
   "execution_count": 28,
   "id": "fb26ae8f-bb78-4fef-89d2-a1e1c4708b6a",
   "metadata": {},
   "outputs": [
    {
     "data": {
      "text/plain": [
       "<tf.Tensor: shape=(), dtype=int32, numpy=43>"
      ]
     },
     "execution_count": 28,
     "metadata": {},
     "output_type": "execute_result"
    }
   ],
   "source": [
    "# Find the mean \n",
    "tf.reduce_mean(E)"
   ]
  },
  {
   "cell_type": "code",
   "execution_count": 30,
   "id": "5613c376-dc7e-4ea6-8663-46376637dada",
   "metadata": {},
   "outputs": [
    {
     "data": {
      "text/plain": [
       "<tf.Tensor: shape=(), dtype=int32, numpy=2183>"
      ]
     },
     "execution_count": 30,
     "metadata": {},
     "output_type": "execute_result"
    }
   ],
   "source": [
    "# Find the sum \n",
    "tf.reduce_sum(E)"
   ]
  },
  {
   "cell_type": "markdown",
   "id": "3f062e99-744d-4063-b224-57b1c1d8325a",
   "metadata": {},
   "source": [
    "## Exercise "
   ]
  },
  {
   "cell_type": "code",
   "execution_count": 63,
   "id": "e281cc37-1e95-485f-a2bb-11053a222cca",
   "metadata": {},
   "outputs": [
    {
     "name": "stdout",
     "output_type": "stream",
     "text": [
      "Standard Deviation: 29.705732\n",
      "Variance: 882.4305\n"
     ]
    }
   ],
   "source": [
    "# find the varience \n",
    "import math\n",
    "E = tf.constant(np.random.randint(0,100,size=50))\n",
    "# we have to change the data type of E because the np.random \n",
    "# generates int but tf.math.reduce_std(E) accepts float number. \n",
    "E = tf.cast(E,dtype=tf.float32)\n",
    "\n",
    "std_result = tf.math.reduce_std(E)\n",
    "variance_result = tf.math.reduce_variance(E)\n",
    "\n",
    "print(\"Standard Deviation:\",std_result.numpy())\n",
    "print(\"Variance:\",variance_result.numpy())"
   ]
  },
  {
   "cell_type": "markdown",
   "id": "c3704aa6-5f26-4eef-bf54-471b13032cc9",
   "metadata": {},
   "source": [
    "# 16. Find the positional maximum and minimum  "
   ]
  },
  {
   "cell_type": "code",
   "execution_count": 5,
   "id": "d27ee5b4-0fd0-4f75-82d6-37610ca33d2b",
   "metadata": {},
   "outputs": [
    {
     "data": {
      "text/plain": [
       "<tf.Tensor: shape=(50,), dtype=float32, numpy=\n",
       "array([0.6645621 , 0.44100678, 0.3528825 , 0.46448255, 0.03366041,\n",
       "       0.68467236, 0.74011743, 0.8724445 , 0.22632635, 0.22319686,\n",
       "       0.3103881 , 0.7223358 , 0.13318717, 0.5480639 , 0.5746088 ,\n",
       "       0.8996835 , 0.00946367, 0.5212307 , 0.6345445 , 0.1993283 ,\n",
       "       0.72942245, 0.54583454, 0.10756552, 0.6767061 , 0.6602763 ,\n",
       "       0.33695042, 0.60141766, 0.21062577, 0.8527372 , 0.44062173,\n",
       "       0.9485276 , 0.23752594, 0.81179297, 0.5263394 , 0.494308  ,\n",
       "       0.21612847, 0.8457197 , 0.8718841 , 0.3083862 , 0.6868038 ,\n",
       "       0.23764038, 0.7817228 , 0.9671384 , 0.06870162, 0.79873943,\n",
       "       0.66028714, 0.5871513 , 0.16461694, 0.7381023 , 0.32054043],\n",
       "      dtype=float32)>"
      ]
     },
     "execution_count": 5,
     "metadata": {},
     "output_type": "execute_result"
    }
   ],
   "source": [
    "# Create a new tensor for fiding positional maximum and minimum \n",
    "tf.random.set_seed(42) \n",
    "F = tf.random.uniform(shape=[50])\n",
    "F"
   ]
  },
  {
   "cell_type": "code",
   "execution_count": 7,
   "id": "6b157447-d52b-4f02-a36d-901d4b5cc4ec",
   "metadata": {},
   "outputs": [
    {
     "data": {
      "text/plain": [
       "<tf.Tensor: shape=(), dtype=int64, numpy=42>"
      ]
     },
     "execution_count": 7,
     "metadata": {},
     "output_type": "execute_result"
    }
   ],
   "source": [
    "# Find the positional maximum \n",
    "tf.argmax(F)"
   ]
  },
  {
   "cell_type": "code",
   "execution_count": 9,
   "id": "386e52f0-7425-400c-a56c-0d93e63c8e22",
   "metadata": {},
   "outputs": [
    {
     "data": {
      "text/plain": [
       "<tf.Tensor: shape=(), dtype=float32, numpy=0.9671384>"
      ]
     },
     "execution_count": 9,
     "metadata": {},
     "output_type": "execute_result"
    }
   ],
   "source": [
    "# Index of largest value position \n",
    "F[tf.argmax(F)]"
   ]
  },
  {
   "cell_type": "code",
   "execution_count": 11,
   "id": "7963c499-d412-450e-b7e9-2a18d8ae9bd8",
   "metadata": {},
   "outputs": [
    {
     "data": {
      "text/plain": [
       "<tf.Tensor: shape=(), dtype=float32, numpy=0.9671384>"
      ]
     },
     "execution_count": 11,
     "metadata": {},
     "output_type": "execute_result"
    }
   ],
   "source": [
    "# Find the max value of F \n",
    "tf.reduce_max(F)"
   ]
  },
  {
   "cell_type": "code",
   "execution_count": 17,
   "id": "4b7b7ec5-e77e-4c08-8552-5bc05d293e10",
   "metadata": {},
   "outputs": [
    {
     "data": {
      "text/plain": [
       "<tf.Tensor: shape=(), dtype=bool, numpy=True>"
      ]
     },
     "execution_count": 17,
     "metadata": {},
     "output_type": "execute_result"
    }
   ],
   "source": [
    "# Check for equality \n",
    "F[tf.argmax(F)]==tf.reduce_max(F) # True"
   ]
  },
  {
   "cell_type": "code",
   "execution_count": null,
   "id": "a21dcb0b-19ab-48bc-8d15-5d5fcd110777",
   "metadata": {},
   "outputs": [],
   "source": []
  },
  {
   "cell_type": "code",
   "execution_count": null,
   "id": "20cca3c1-ebdc-4cc6-a5f9-bba293c33dc9",
   "metadata": {},
   "outputs": [],
   "source": []
  },
  {
   "cell_type": "code",
   "execution_count": null,
   "id": "002433b1-c01b-457d-8ec0-6d5feedb95b6",
   "metadata": {},
   "outputs": [],
   "source": []
  },
  {
   "cell_type": "code",
   "execution_count": null,
   "id": "a9086c9c-421f-42f0-8f11-f0ce25cd76c5",
   "metadata": {},
   "outputs": [],
   "source": []
  },
  {
   "cell_type": "code",
   "execution_count": null,
   "id": "09dfc134-fda7-4325-a830-8b3e1ff9114c",
   "metadata": {},
   "outputs": [],
   "source": []
  },
  {
   "cell_type": "code",
   "execution_count": null,
   "id": "d023b1d0-5e71-48df-a05e-baa7b651c46c",
   "metadata": {},
   "outputs": [],
   "source": []
  },
  {
   "cell_type": "code",
   "execution_count": null,
   "id": "0c6f4de3-964e-4248-8396-4eb303a81728",
   "metadata": {},
   "outputs": [],
   "source": []
  }
 ],
 "metadata": {
  "kernelspec": {
   "display_name": "Python 3 (ipykernel)",
   "language": "python",
   "name": "python3"
  },
  "language_info": {
   "codemirror_mode": {
    "name": "ipython",
    "version": 3
   },
   "file_extension": ".py",
   "mimetype": "text/x-python",
   "name": "python",
   "nbconvert_exporter": "python",
   "pygments_lexer": "ipython3",
   "version": "3.12.3"
  },
  "widgets": {
   "application/vnd.jupyter.widget-state+json": {
    "state": {},
    "version_major": 2,
    "version_minor": 0
   }
  }
 },
 "nbformat": 4,
 "nbformat_minor": 5
}
