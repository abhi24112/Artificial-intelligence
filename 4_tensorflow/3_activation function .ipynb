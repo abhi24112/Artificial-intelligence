{
 "cells": [
  {
   "cell_type": "code",
   "execution_count": null,
   "id": "b0a6b953-2887-4627-a000-9a724f4fafe7",
   "metadata": {},
   "outputs": [],
   "source": []
  },
  {
   "cell_type": "code",
   "execution_count": null,
   "id": "edf1799d-3908-4eba-afdd-a9a08ca23e9e",
   "metadata": {},
   "outputs": [],
   "source": []
  },
  {
   "cell_type": "markdown",
   "id": "c369717a-ee0a-4480-95a6-1da1dd050e20",
   "metadata": {},
   "source": [
    "## ReLu"
   ]
  },
  {
   "cell_type": "code",
   "execution_count": 9,
   "id": "4ded2bfe-56c1-4507-9f8e-bbac46dc2d8f",
   "metadata": {},
   "outputs": [],
   "source": [
    "def relu(x): \n",
    "    return max(0,x)"
   ]
  },
  {
   "cell_type": "code",
   "execution_count": 11,
   "id": "e72c0cd0-43ab-4cfa-a8e9-51d5951b48a9",
   "metadata": {},
   "outputs": [
    {
     "data": {
      "text/plain": [
       "0"
      ]
     },
     "execution_count": 11,
     "metadata": {},
     "output_type": "execute_result"
    }
   ],
   "source": [
    "relu(-100000)"
   ]
  },
  {
   "cell_type": "code",
   "execution_count": 13,
   "id": "d192b3bc-5755-48bc-b5fc-3760381c1ac8",
   "metadata": {},
   "outputs": [
    {
     "data": {
      "text/plain": [
       "0"
      ]
     },
     "execution_count": 13,
     "metadata": {},
     "output_type": "execute_result"
    }
   ],
   "source": [
    "relu(-100)"
   ]
  },
  {
   "cell_type": "code",
   "execution_count": 15,
   "id": "92aacb02-541d-427f-b86a-eb936c7155cd",
   "metadata": {},
   "outputs": [
    {
     "data": {
      "text/plain": [
       "1"
      ]
     },
     "execution_count": 15,
     "metadata": {},
     "output_type": "execute_result"
    }
   ],
   "source": [
    "relu(1)"
   ]
  },
  {
   "cell_type": "code",
   "execution_count": 17,
   "id": "7a2c4571-1c71-4f03-ac8d-960d965e89dd",
   "metadata": {},
   "outputs": [
    {
     "data": {
      "text/plain": [
       "10000"
      ]
     },
     "execution_count": 17,
     "metadata": {},
     "output_type": "execute_result"
    }
   ],
   "source": [
    "relu(10000)"
   ]
  },
  {
   "cell_type": "markdown",
   "id": "5a6ed0cc-16da-484f-8c86-7f256860efd2",
   "metadata": {},
   "source": [
    "## Leaky ReLu "
   ]
  },
  {
   "cell_type": "code",
   "execution_count": 2,
   "id": "33dbcac7-ce2f-4d11-8775-b47155e8c265",
   "metadata": {},
   "outputs": [],
   "source": [
    "def leaky_relu(x): \n",
    "    return max(0.001*x,x)"
   ]
  },
  {
   "cell_type": "code",
   "execution_count": 4,
   "id": "3ddb04f5-34f1-4c34-ba56-fc0f039d2573",
   "metadata": {},
   "outputs": [
    {
     "data": {
      "text/plain": [
       "-100000.0"
      ]
     },
     "execution_count": 4,
     "metadata": {},
     "output_type": "execute_result"
    }
   ],
   "source": [
    "leaky_relu(-100000000)"
   ]
  },
  {
   "cell_type": "code",
   "execution_count": 6,
   "id": "5df1adcd-77da-4e3a-adcc-12e63add53aa",
   "metadata": {},
   "outputs": [
    {
     "data": {
      "text/plain": [
       "-0.01"
      ]
     },
     "execution_count": 6,
     "metadata": {},
     "output_type": "execute_result"
    }
   ],
   "source": [
    "leaky_relu(-10)"
   ]
  },
  {
   "cell_type": "code",
   "execution_count": null,
   "id": "1aeeaa4a-b769-4deb-81c6-dfc8416e1232",
   "metadata": {},
   "outputs": [],
   "source": []
  },
  {
   "cell_type": "code",
   "execution_count": null,
   "id": "c61e0976-ac96-49cc-873d-f21573c6e08b",
   "metadata": {},
   "outputs": [],
   "source": []
  },
  {
   "cell_type": "code",
   "execution_count": null,
   "id": "7d97ab51-0987-487e-8b91-810d8f596cca",
   "metadata": {},
   "outputs": [],
   "source": []
  },
  {
   "cell_type": "code",
   "execution_count": null,
   "id": "b83c4cb7-cc75-486c-9213-e4adfd5e8914",
   "metadata": {},
   "outputs": [],
   "source": []
  },
  {
   "cell_type": "code",
   "execution_count": null,
   "id": "7d2fc1a1-308b-42fb-a73f-0620f98b92e3",
   "metadata": {},
   "outputs": [],
   "source": []
  },
  {
   "cell_type": "code",
   "execution_count": null,
   "id": "d0d562f4-b28e-44da-8e21-637bf9620549",
   "metadata": {},
   "outputs": [],
   "source": []
  },
  {
   "cell_type": "code",
   "execution_count": null,
   "id": "6d2fe8a2-e675-4689-947a-7354df751b79",
   "metadata": {},
   "outputs": [],
   "source": []
  },
  {
   "cell_type": "code",
   "execution_count": null,
   "id": "d618188f-1b28-4fc2-97c5-8c9ea24b1898",
   "metadata": {},
   "outputs": [],
   "source": []
  },
  {
   "cell_type": "code",
   "execution_count": null,
   "id": "b3028730-0978-492d-8413-aa4263f1160d",
   "metadata": {},
   "outputs": [],
   "source": []
  },
  {
   "cell_type": "code",
   "execution_count": null,
   "id": "a158b973-e925-4774-a505-eb3e582a2dd9",
   "metadata": {},
   "outputs": [],
   "source": []
  },
  {
   "cell_type": "code",
   "execution_count": null,
   "id": "8cb72cb0-b4b9-414e-9c6c-65174d54027f",
   "metadata": {},
   "outputs": [],
   "source": []
  },
  {
   "cell_type": "code",
   "execution_count": null,
   "id": "ee340764-1c4e-4cb4-a728-cba15e4c2d2b",
   "metadata": {},
   "outputs": [],
   "source": []
  },
  {
   "cell_type": "code",
   "execution_count": null,
   "id": "4d4c813e-5c65-45b6-9abf-0843b62d5534",
   "metadata": {},
   "outputs": [],
   "source": []
  },
  {
   "cell_type": "code",
   "execution_count": null,
   "id": "ffd12ed6-d7db-49e5-9c5e-9feeadd2168e",
   "metadata": {},
   "outputs": [],
   "source": []
  },
  {
   "cell_type": "code",
   "execution_count": null,
   "id": "8b758800-6178-4c42-bbeb-acd033349f76",
   "metadata": {},
   "outputs": [],
   "source": []
  }
 ],
 "metadata": {
  "kernelspec": {
   "display_name": "Python 3 (ipykernel)",
   "language": "python",
   "name": "python3"
  },
  "language_info": {
   "codemirror_mode": {
    "name": "ipython",
    "version": 3
   },
   "file_extension": ".py",
   "mimetype": "text/x-python",
   "name": "python",
   "nbconvert_exporter": "python",
   "pygments_lexer": "ipython3",
   "version": "3.12.3"
  },
  "widgets": {
   "application/vnd.jupyter.widget-state+json": {
    "state": {},
    "version_major": 2,
    "version_minor": 0
   }
  }
 },
 "nbformat": 4,
 "nbformat_minor": 5
}
