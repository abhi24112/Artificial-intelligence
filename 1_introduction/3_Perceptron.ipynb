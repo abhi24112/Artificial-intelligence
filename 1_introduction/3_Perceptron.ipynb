{
 "cells": [
  {
   "cell_type": "markdown",
   "id": "f8da74ed-2b94-4be0-a9f2-d4f1a3328ec2",
   "metadata": {},
   "source": [
    "<h'  \n",
    "/'.ipynb_checkpoints\\\n",
    "\n",
    "\n",
    "\n",
    ";\n",
    "?\"\"[\n",
    "]\n",
    "'']\n",
    "1 style = \"font-size:4rem;color:orange;\">Perceptron in A.I</h1>"
   ]
  },
  {
   "cell_type": "code",
   "execution_count": null,
   "id": "c1e288a3-10a0-4a0b-94cf-a071478df3e6",
   "metadata": {},
   "outputs": [],
   "source": []
  }
 ],
 "metadata": {
  "kernelspec": {
   "display_name": "Python 3 (ipykernel)",
   "language": "python",
   "name": "python3"
  },
  "language_info": {
   "codemirror_mode": {
    "name": "ipython",
    "version": 3
   },
   "file_extension": ".py",
   "mimetype": "text/x-python",
   "name": "python",
   "nbconvert_exporter": "python",
   "pygments_lexer": "ipython3",
   "version": "3.12.3"
  }
 },
 "nbformat": 4,
 "nbformat_minor": 5
}
