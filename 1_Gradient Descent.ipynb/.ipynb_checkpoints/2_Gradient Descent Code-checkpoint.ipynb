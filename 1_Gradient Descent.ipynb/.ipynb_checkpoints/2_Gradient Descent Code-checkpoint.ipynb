{
 "cells": [
  {
   "cell_type": "markdown",
   "id": "72a06f32-2300-4797-b963-08d73156df3f",
   "metadata": {},
   "source": [
    "<h1 style = \"font-size:3rem;color:orange;\">Gradient Descent</h1>"
   ]
  },
  {
   "cell_type": "code",
   "execution_count": 7,
   "id": "aed8763c-ec6e-41c9-a568-0ee591a579dd",
   "metadata": {},
   "outputs": [],
   "source": [
    "import numpy as np\n",
    "import pandas as pd \n",
    "import matplotlib.pyplot as plt "
   ]
  },
  {
   "cell_type": "code",
   "execution_count": 101,
   "id": "82b019a6-db4d-412f-8068-e938347e0e07",
   "metadata": {},
   "outputs": [
    {
     "name": "stdout",
     "output_type": "stream",
     "text": [
      "m:0.62\n",
      "b:0.18\n",
      "cost:89.0\n",
      "iteration: 1 \n",
      "\n",
      "m:1.0928\n",
      "b:0.3192\n",
      "cost:52.25039999999999\n",
      "iteration: 2 \n",
      "\n",
      "m:1.453232\n",
      "b:0.42724799999999996\n",
      "cost:30.831949440000002\n",
      "iteration: 3 \n",
      "\n",
      "m:1.7278860800000002\n",
      "b:0.5115091199999999\n",
      "cost:18.347751350784\n",
      "iteration: 4 \n",
      "\n",
      "m:1.9370605952000002\n",
      "b:0.5776057727999999\n",
      "cost:11.070010749324897\n",
      "iteration: 5 \n",
      "\n",
      "m:2.096250917888\n",
      "b:0.6298300216319999\n",
      "cost:6.826353152519786\n",
      "iteration: 6 \n",
      "\n",
      "m:2.2172859146547204\n",
      "b:0.6714583661260799\n",
      "cost:4.350826141683065\n",
      "iteration: 7 \n",
      "\n",
      "m:2.309195511463117\n",
      "b:0.7049920439242751\n",
      "cost:2.9056952040975976\n",
      "iteration: 8 \n",
      "\n",
      "m:2.3788729763057748\n",
      "b:0.7323404723580026\n",
      "cost:2.0610450731046615\n",
      "iteration: 9 \n",
      "\n",
      "m:2.431580493177024\n",
      "b:0.7549612843324961\n",
      "cost:1.5663423003130599\n",
      "iteration: 10 \n",
      "\n"
     ]
    }
   ],
   "source": [
    "def gradient_descent(x,y):\n",
    "    \n",
    "    # we have to select any initial value to start the process\n",
    "    m_curr = b_curr = 0 \n",
    "    iteration = 10\n",
    "    learning_rate = 0.01 # Learning Rate(α)alpha\n",
    "    \n",
    "    for i in range(iteration):\n",
    "        # predicted value of (y)\n",
    "        y_pre = m_curr * x + b_curr\n",
    "        \n",
    "        #cost function (mse)\n",
    "        cost = (1/n) * sum((y-y_pre)**2)\n",
    "\n",
    "        # partial differentiation of (mse) with resp. of (m) and (b)\n",
    "        md = -(2/n) * sum(x*(y-y_pre))\n",
    "        bd = -(2/n) * sum((y-y_pre))\n",
    "\n",
    "        # Learning Rate \n",
    "        m_curr = m_curr - learning_rate * md\n",
    "        b_curr = b_curr - learning_rate * bd\n",
    "        print(f\"m:{m_curr}\\nb:{b_curr}\\ncost:{cost}\\niteration: {i+1} \\n\")\n",
    "\n",
    "# Driver code\n",
    "x = np.array([1,2,3,4,5])\n",
    "y = np.array([5,7,9,11,13])\n",
    "n = len(x)\n",
    "\n",
    "#function Calling\n",
    "gradient_descent(x,y)"
   ]
  },
  {
   "cell_type": "code",
   "execution_count": null,
   "id": "56ec9641-cf6a-4e01-87f0-cdf6bc280c65",
   "metadata": {},
   "outputs": [],
   "source": []
  },
  {
   "cell_type": "code",
   "execution_count": null,
   "id": "f99e4c2d-4416-4106-917b-3162b55b8eb6",
   "metadata": {},
   "outputs": [],
   "source": []
  },
  {
   "cell_type": "code",
   "execution_count": null,
   "id": "28d372f0-23da-46bd-9dcf-a97b1b6c2f3f",
   "metadata": {},
   "outputs": [],
   "source": []
  },
  {
   "cell_type": "code",
   "execution_count": null,
   "id": "dbca8213-31a3-4065-a5c0-c7266206d1ec",
   "metadata": {},
   "outputs": [],
   "source": []
  },
  {
   "cell_type": "code",
   "execution_count": null,
   "id": "182724d8-3d28-4d49-b2eb-bfe762f4bb0d",
   "metadata": {},
   "outputs": [],
   "source": []
  },
  {
   "cell_type": "code",
   "execution_count": null,
   "id": "4abd3077-75d9-4d6e-a6db-5330c6ebd5d4",
   "metadata": {},
   "outputs": [],
   "source": []
  }
 ],
 "metadata": {
  "kernelspec": {
   "display_name": "Python 3 (ipykernel)",
   "language": "python",
   "name": "python3"
  },
  "language_info": {
   "codemirror_mode": {
    "name": "ipython",
    "version": 3
   },
   "file_extension": ".py",
   "mimetype": "text/x-python",
   "name": "python",
   "nbconvert_exporter": "python",
   "pygments_lexer": "ipython3",
   "version": "3.12.3"
  }
 },
 "nbformat": 4,
 "nbformat_minor": 5
}
